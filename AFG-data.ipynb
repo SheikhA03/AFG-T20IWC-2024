{
  "nbformat": 4,
  "nbformat_minor": 0,
  "metadata": {
    "colab": {
      "provenance": []
    },
    "kernelspec": {
      "name": "python3",
      "display_name": "Python 3"
    },
    "language_info": {
      "name": "python"
    }
  },
  "cells": [
    {
      "cell_type": "code",
      "execution_count": null,
      "metadata": {
        "id": "gXAoIGwIeke5"
      },
      "outputs": [],
      "source": [
        "import numpy as np\n",
        "import pandas as pd\n",
        "import matplotlib.pyplot as plt\n",
        "import seaborn as sns"
      ]
    },
    {
      "cell_type": "code",
      "source": [
        "data=pd.read_excel('/content/FullT20wc2024.xlsx')"
      ],
      "metadata": {
        "id": "bAPyCDyBfI6S"
      },
      "execution_count": null,
      "outputs": []
    },
    {
      "cell_type": "code",
      "source": [
        "data.head()"
      ],
      "metadata": {
        "colab": {
          "base_uri": "https://localhost:8080/",
          "height": 516
        },
        "collapsed": true,
        "id": "p36ss3WrfoLO",
        "outputId": "d9ba07c1-caee-4ed3-83b9-63fb6bf57587"
      },
      "execution_count": null,
      "outputs": [
        {
          "output_type": "execute_result",
          "data": {
            "text/plain": [
              "   match_id             custom_match_id  season type_clean competition_code  \\\n",
              "0   1415701  ICCMTWC_USA_CAN_2024-06-01    2024        T20          ICCMTWC   \n",
              "1   1415701  ICCMTWC_USA_CAN_2024-06-01    2024        T20          ICCMTWC   \n",
              "2   1415701  ICCMTWC_USA_CAN_2024-06-01    2024        T20          ICCMTWC   \n",
              "3   1415701  ICCMTWC_USA_CAN_2024-06-01    2024        T20          ICCMTWC   \n",
              "4   1415701  ICCMTWC_USA_CAN_2024-06-01    2024        T20          ICCMTWC   \n",
              "\n",
              "               competition gender                          venue       date  \\\n",
              "0  ICC Men's T20 World Cup   male  Grand Prairie Stadium, Dallas 2024-06-01   \n",
              "1  ICC Men's T20 World Cup   male  Grand Prairie Stadium, Dallas 2024-06-01   \n",
              "2  ICC Men's T20 World Cup   male  Grand Prairie Stadium, Dallas 2024-06-01   \n",
              "3  ICC Men's T20 World Cup   male  Grand Prairie Stadium, Dallas 2024-06-01   \n",
              "4  ICC Men's T20 World Cup   male  Grand Prairie Stadium, Dallas 2024-06-01   \n",
              "\n",
              "                  timestamp  ...  penalties  extras  out_player_cricinfo_id  \\\n",
              "0  2024-06-02T00:37:08.000Z  ...          0       0                     NaN   \n",
              "1  2024-06-02T00:37:39.000Z  ...          0       0                     NaN   \n",
              "2  2024-06-02T00:38:17.000Z  ...          0       1                     NaN   \n",
              "3  2024-06-02T00:38:54.000Z  ...          0       0                     NaN   \n",
              "4  2024-06-02T00:39:29.000Z  ...          0       0                     NaN   \n",
              "\n",
              "   out_player_id  out_player  dismissal_type  dismissal_text_shot  \\\n",
              "0            NaN         NaN             NaN                  NaN   \n",
              "1            NaN         NaN             NaN                  NaN   \n",
              "2            NaN         NaN             NaN                  NaN   \n",
              "3            NaN         NaN             NaN                  NaN   \n",
              "4            NaN         NaN             NaN                  NaN   \n",
              "\n",
              "   dismissal_text_long  dismissal_text_commentary        Stage  \n",
              "0                  NaN                        NaN  Group Stage  \n",
              "1                  NaN                        NaN  Group Stage  \n",
              "2                  NaN                        NaN  Group Stage  \n",
              "3                  NaN                        NaN  Group Stage  \n",
              "4                  NaN                        NaN  Group Stage  \n",
              "\n",
              "[5 rows x 56 columns]"
            ],
            "text/html": [
              "\n",
              "  <div id=\"df-7c4c95d4-dde0-49f1-a06c-7c26a51c4228\" class=\"colab-df-container\">\n",
              "    <div>\n",
              "<style scoped>\n",
              "    .dataframe tbody tr th:only-of-type {\n",
              "        vertical-align: middle;\n",
              "    }\n",
              "\n",
              "    .dataframe tbody tr th {\n",
              "        vertical-align: top;\n",
              "    }\n",
              "\n",
              "    .dataframe thead th {\n",
              "        text-align: right;\n",
              "    }\n",
              "</style>\n",
              "<table border=\"1\" class=\"dataframe\">\n",
              "  <thead>\n",
              "    <tr style=\"text-align: right;\">\n",
              "      <th></th>\n",
              "      <th>match_id</th>\n",
              "      <th>custom_match_id</th>\n",
              "      <th>season</th>\n",
              "      <th>type_clean</th>\n",
              "      <th>competition_code</th>\n",
              "      <th>competition</th>\n",
              "      <th>gender</th>\n",
              "      <th>venue</th>\n",
              "      <th>date</th>\n",
              "      <th>timestamp</th>\n",
              "      <th>...</th>\n",
              "      <th>penalties</th>\n",
              "      <th>extras</th>\n",
              "      <th>out_player_cricinfo_id</th>\n",
              "      <th>out_player_id</th>\n",
              "      <th>out_player</th>\n",
              "      <th>dismissal_type</th>\n",
              "      <th>dismissal_text_shot</th>\n",
              "      <th>dismissal_text_long</th>\n",
              "      <th>dismissal_text_commentary</th>\n",
              "      <th>Stage</th>\n",
              "    </tr>\n",
              "  </thead>\n",
              "  <tbody>\n",
              "    <tr>\n",
              "      <th>0</th>\n",
              "      <td>1415701</td>\n",
              "      <td>ICCMTWC_USA_CAN_2024-06-01</td>\n",
              "      <td>2024</td>\n",
              "      <td>T20</td>\n",
              "      <td>ICCMTWC</td>\n",
              "      <td>ICC Men's T20 World Cup</td>\n",
              "      <td>male</td>\n",
              "      <td>Grand Prairie Stadium, Dallas</td>\n",
              "      <td>2024-06-01</td>\n",
              "      <td>2024-06-02T00:37:08.000Z</td>\n",
              "      <td>...</td>\n",
              "      <td>0</td>\n",
              "      <td>0</td>\n",
              "      <td>NaN</td>\n",
              "      <td>NaN</td>\n",
              "      <td>NaN</td>\n",
              "      <td>NaN</td>\n",
              "      <td>NaN</td>\n",
              "      <td>NaN</td>\n",
              "      <td>NaN</td>\n",
              "      <td>Group Stage</td>\n",
              "    </tr>\n",
              "    <tr>\n",
              "      <th>1</th>\n",
              "      <td>1415701</td>\n",
              "      <td>ICCMTWC_USA_CAN_2024-06-01</td>\n",
              "      <td>2024</td>\n",
              "      <td>T20</td>\n",
              "      <td>ICCMTWC</td>\n",
              "      <td>ICC Men's T20 World Cup</td>\n",
              "      <td>male</td>\n",
              "      <td>Grand Prairie Stadium, Dallas</td>\n",
              "      <td>2024-06-01</td>\n",
              "      <td>2024-06-02T00:37:39.000Z</td>\n",
              "      <td>...</td>\n",
              "      <td>0</td>\n",
              "      <td>0</td>\n",
              "      <td>NaN</td>\n",
              "      <td>NaN</td>\n",
              "      <td>NaN</td>\n",
              "      <td>NaN</td>\n",
              "      <td>NaN</td>\n",
              "      <td>NaN</td>\n",
              "      <td>NaN</td>\n",
              "      <td>Group Stage</td>\n",
              "    </tr>\n",
              "    <tr>\n",
              "      <th>2</th>\n",
              "      <td>1415701</td>\n",
              "      <td>ICCMTWC_USA_CAN_2024-06-01</td>\n",
              "      <td>2024</td>\n",
              "      <td>T20</td>\n",
              "      <td>ICCMTWC</td>\n",
              "      <td>ICC Men's T20 World Cup</td>\n",
              "      <td>male</td>\n",
              "      <td>Grand Prairie Stadium, Dallas</td>\n",
              "      <td>2024-06-01</td>\n",
              "      <td>2024-06-02T00:38:17.000Z</td>\n",
              "      <td>...</td>\n",
              "      <td>0</td>\n",
              "      <td>1</td>\n",
              "      <td>NaN</td>\n",
              "      <td>NaN</td>\n",
              "      <td>NaN</td>\n",
              "      <td>NaN</td>\n",
              "      <td>NaN</td>\n",
              "      <td>NaN</td>\n",
              "      <td>NaN</td>\n",
              "      <td>Group Stage</td>\n",
              "    </tr>\n",
              "    <tr>\n",
              "      <th>3</th>\n",
              "      <td>1415701</td>\n",
              "      <td>ICCMTWC_USA_CAN_2024-06-01</td>\n",
              "      <td>2024</td>\n",
              "      <td>T20</td>\n",
              "      <td>ICCMTWC</td>\n",
              "      <td>ICC Men's T20 World Cup</td>\n",
              "      <td>male</td>\n",
              "      <td>Grand Prairie Stadium, Dallas</td>\n",
              "      <td>2024-06-01</td>\n",
              "      <td>2024-06-02T00:38:54.000Z</td>\n",
              "      <td>...</td>\n",
              "      <td>0</td>\n",
              "      <td>0</td>\n",
              "      <td>NaN</td>\n",
              "      <td>NaN</td>\n",
              "      <td>NaN</td>\n",
              "      <td>NaN</td>\n",
              "      <td>NaN</td>\n",
              "      <td>NaN</td>\n",
              "      <td>NaN</td>\n",
              "      <td>Group Stage</td>\n",
              "    </tr>\n",
              "    <tr>\n",
              "      <th>4</th>\n",
              "      <td>1415701</td>\n",
              "      <td>ICCMTWC_USA_CAN_2024-06-01</td>\n",
              "      <td>2024</td>\n",
              "      <td>T20</td>\n",
              "      <td>ICCMTWC</td>\n",
              "      <td>ICC Men's T20 World Cup</td>\n",
              "      <td>male</td>\n",
              "      <td>Grand Prairie Stadium, Dallas</td>\n",
              "      <td>2024-06-01</td>\n",
              "      <td>2024-06-02T00:39:29.000Z</td>\n",
              "      <td>...</td>\n",
              "      <td>0</td>\n",
              "      <td>0</td>\n",
              "      <td>NaN</td>\n",
              "      <td>NaN</td>\n",
              "      <td>NaN</td>\n",
              "      <td>NaN</td>\n",
              "      <td>NaN</td>\n",
              "      <td>NaN</td>\n",
              "      <td>NaN</td>\n",
              "      <td>Group Stage</td>\n",
              "    </tr>\n",
              "  </tbody>\n",
              "</table>\n",
              "<p>5 rows × 56 columns</p>\n",
              "</div>\n",
              "    <div class=\"colab-df-buttons\">\n",
              "\n",
              "  <div class=\"colab-df-container\">\n",
              "    <button class=\"colab-df-convert\" onclick=\"convertToInteractive('df-7c4c95d4-dde0-49f1-a06c-7c26a51c4228')\"\n",
              "            title=\"Convert this dataframe to an interactive table.\"\n",
              "            style=\"display:none;\">\n",
              "\n",
              "  <svg xmlns=\"http://www.w3.org/2000/svg\" height=\"24px\" viewBox=\"0 -960 960 960\">\n",
              "    <path d=\"M120-120v-720h720v720H120Zm60-500h600v-160H180v160Zm220 220h160v-160H400v160Zm0 220h160v-160H400v160ZM180-400h160v-160H180v160Zm440 0h160v-160H620v160ZM180-180h160v-160H180v160Zm440 0h160v-160H620v160Z\"/>\n",
              "  </svg>\n",
              "    </button>\n",
              "\n",
              "  <style>\n",
              "    .colab-df-container {\n",
              "      display:flex;\n",
              "      gap: 12px;\n",
              "    }\n",
              "\n",
              "    .colab-df-convert {\n",
              "      background-color: #E8F0FE;\n",
              "      border: none;\n",
              "      border-radius: 50%;\n",
              "      cursor: pointer;\n",
              "      display: none;\n",
              "      fill: #1967D2;\n",
              "      height: 32px;\n",
              "      padding: 0 0 0 0;\n",
              "      width: 32px;\n",
              "    }\n",
              "\n",
              "    .colab-df-convert:hover {\n",
              "      background-color: #E2EBFA;\n",
              "      box-shadow: 0px 1px 2px rgba(60, 64, 67, 0.3), 0px 1px 3px 1px rgba(60, 64, 67, 0.15);\n",
              "      fill: #174EA6;\n",
              "    }\n",
              "\n",
              "    .colab-df-buttons div {\n",
              "      margin-bottom: 4px;\n",
              "    }\n",
              "\n",
              "    [theme=dark] .colab-df-convert {\n",
              "      background-color: #3B4455;\n",
              "      fill: #D2E3FC;\n",
              "    }\n",
              "\n",
              "    [theme=dark] .colab-df-convert:hover {\n",
              "      background-color: #434B5C;\n",
              "      box-shadow: 0px 1px 3px 1px rgba(0, 0, 0, 0.15);\n",
              "      filter: drop-shadow(0px 1px 2px rgba(0, 0, 0, 0.3));\n",
              "      fill: #FFFFFF;\n",
              "    }\n",
              "  </style>\n",
              "\n",
              "    <script>\n",
              "      const buttonEl =\n",
              "        document.querySelector('#df-7c4c95d4-dde0-49f1-a06c-7c26a51c4228 button.colab-df-convert');\n",
              "      buttonEl.style.display =\n",
              "        google.colab.kernel.accessAllowed ? 'block' : 'none';\n",
              "\n",
              "      async function convertToInteractive(key) {\n",
              "        const element = document.querySelector('#df-7c4c95d4-dde0-49f1-a06c-7c26a51c4228');\n",
              "        const dataTable =\n",
              "          await google.colab.kernel.invokeFunction('convertToInteractive',\n",
              "                                                    [key], {});\n",
              "        if (!dataTable) return;\n",
              "\n",
              "        const docLinkHtml = 'Like what you see? Visit the ' +\n",
              "          '<a target=\"_blank\" href=https://colab.research.google.com/notebooks/data_table.ipynb>data table notebook</a>'\n",
              "          + ' to learn more about interactive tables.';\n",
              "        element.innerHTML = '';\n",
              "        dataTable['output_type'] = 'display_data';\n",
              "        await google.colab.output.renderOutput(dataTable, element);\n",
              "        const docLink = document.createElement('div');\n",
              "        docLink.innerHTML = docLinkHtml;\n",
              "        element.appendChild(docLink);\n",
              "      }\n",
              "    </script>\n",
              "  </div>\n",
              "\n",
              "\n",
              "<div id=\"df-8a9be0ef-627f-42af-bed3-7d6b7f164b5d\">\n",
              "  <button class=\"colab-df-quickchart\" onclick=\"quickchart('df-8a9be0ef-627f-42af-bed3-7d6b7f164b5d')\"\n",
              "            title=\"Suggest charts\"\n",
              "            style=\"display:none;\">\n",
              "\n",
              "<svg xmlns=\"http://www.w3.org/2000/svg\" height=\"24px\"viewBox=\"0 0 24 24\"\n",
              "     width=\"24px\">\n",
              "    <g>\n",
              "        <path d=\"M19 3H5c-1.1 0-2 .9-2 2v14c0 1.1.9 2 2 2h14c1.1 0 2-.9 2-2V5c0-1.1-.9-2-2-2zM9 17H7v-7h2v7zm4 0h-2V7h2v10zm4 0h-2v-4h2v4z\"/>\n",
              "    </g>\n",
              "</svg>\n",
              "  </button>\n",
              "\n",
              "<style>\n",
              "  .colab-df-quickchart {\n",
              "      --bg-color: #E8F0FE;\n",
              "      --fill-color: #1967D2;\n",
              "      --hover-bg-color: #E2EBFA;\n",
              "      --hover-fill-color: #174EA6;\n",
              "      --disabled-fill-color: #AAA;\n",
              "      --disabled-bg-color: #DDD;\n",
              "  }\n",
              "\n",
              "  [theme=dark] .colab-df-quickchart {\n",
              "      --bg-color: #3B4455;\n",
              "      --fill-color: #D2E3FC;\n",
              "      --hover-bg-color: #434B5C;\n",
              "      --hover-fill-color: #FFFFFF;\n",
              "      --disabled-bg-color: #3B4455;\n",
              "      --disabled-fill-color: #666;\n",
              "  }\n",
              "\n",
              "  .colab-df-quickchart {\n",
              "    background-color: var(--bg-color);\n",
              "    border: none;\n",
              "    border-radius: 50%;\n",
              "    cursor: pointer;\n",
              "    display: none;\n",
              "    fill: var(--fill-color);\n",
              "    height: 32px;\n",
              "    padding: 0;\n",
              "    width: 32px;\n",
              "  }\n",
              "\n",
              "  .colab-df-quickchart:hover {\n",
              "    background-color: var(--hover-bg-color);\n",
              "    box-shadow: 0 1px 2px rgba(60, 64, 67, 0.3), 0 1px 3px 1px rgba(60, 64, 67, 0.15);\n",
              "    fill: var(--button-hover-fill-color);\n",
              "  }\n",
              "\n",
              "  .colab-df-quickchart-complete:disabled,\n",
              "  .colab-df-quickchart-complete:disabled:hover {\n",
              "    background-color: var(--disabled-bg-color);\n",
              "    fill: var(--disabled-fill-color);\n",
              "    box-shadow: none;\n",
              "  }\n",
              "\n",
              "  .colab-df-spinner {\n",
              "    border: 2px solid var(--fill-color);\n",
              "    border-color: transparent;\n",
              "    border-bottom-color: var(--fill-color);\n",
              "    animation:\n",
              "      spin 1s steps(1) infinite;\n",
              "  }\n",
              "\n",
              "  @keyframes spin {\n",
              "    0% {\n",
              "      border-color: transparent;\n",
              "      border-bottom-color: var(--fill-color);\n",
              "      border-left-color: var(--fill-color);\n",
              "    }\n",
              "    20% {\n",
              "      border-color: transparent;\n",
              "      border-left-color: var(--fill-color);\n",
              "      border-top-color: var(--fill-color);\n",
              "    }\n",
              "    30% {\n",
              "      border-color: transparent;\n",
              "      border-left-color: var(--fill-color);\n",
              "      border-top-color: var(--fill-color);\n",
              "      border-right-color: var(--fill-color);\n",
              "    }\n",
              "    40% {\n",
              "      border-color: transparent;\n",
              "      border-right-color: var(--fill-color);\n",
              "      border-top-color: var(--fill-color);\n",
              "    }\n",
              "    60% {\n",
              "      border-color: transparent;\n",
              "      border-right-color: var(--fill-color);\n",
              "    }\n",
              "    80% {\n",
              "      border-color: transparent;\n",
              "      border-right-color: var(--fill-color);\n",
              "      border-bottom-color: var(--fill-color);\n",
              "    }\n",
              "    90% {\n",
              "      border-color: transparent;\n",
              "      border-bottom-color: var(--fill-color);\n",
              "    }\n",
              "  }\n",
              "</style>\n",
              "\n",
              "  <script>\n",
              "    async function quickchart(key) {\n",
              "      const quickchartButtonEl =\n",
              "        document.querySelector('#' + key + ' button');\n",
              "      quickchartButtonEl.disabled = true;  // To prevent multiple clicks.\n",
              "      quickchartButtonEl.classList.add('colab-df-spinner');\n",
              "      try {\n",
              "        const charts = await google.colab.kernel.invokeFunction(\n",
              "            'suggestCharts', [key], {});\n",
              "      } catch (error) {\n",
              "        console.error('Error during call to suggestCharts:', error);\n",
              "      }\n",
              "      quickchartButtonEl.classList.remove('colab-df-spinner');\n",
              "      quickchartButtonEl.classList.add('colab-df-quickchart-complete');\n",
              "    }\n",
              "    (() => {\n",
              "      let quickchartButtonEl =\n",
              "        document.querySelector('#df-8a9be0ef-627f-42af-bed3-7d6b7f164b5d button');\n",
              "      quickchartButtonEl.style.display =\n",
              "        google.colab.kernel.accessAllowed ? 'block' : 'none';\n",
              "    })();\n",
              "  </script>\n",
              "</div>\n",
              "\n",
              "    </div>\n",
              "  </div>\n"
            ],
            "application/vnd.google.colaboratory.intrinsic+json": {
              "type": "dataframe",
              "variable_name": "data"
            }
          },
          "metadata": {},
          "execution_count": 21
        }
      ]
    },
    {
      "cell_type": "code",
      "source": [
        "data.shape"
      ],
      "metadata": {
        "colab": {
          "base_uri": "https://localhost:8080/"
        },
        "id": "PnMBjyuGgryK",
        "outputId": "fe3f800a-2b3d-461b-fbf1-408d74599acc"
      },
      "execution_count": null,
      "outputs": [
        {
          "output_type": "execute_result",
          "data": {
            "text/plain": [
              "(11381, 56)"
            ]
          },
          "metadata": {},
          "execution_count": 22
        }
      ]
    },
    {
      "cell_type": "code",
      "source": [
        "data.columns"
      ],
      "metadata": {
        "colab": {
          "base_uri": "https://localhost:8080/"
        },
        "id": "GcfrsX24gzDB",
        "outputId": "85adbd84-f54f-410d-d531-31f86720083c",
        "collapsed": true
      },
      "execution_count": null,
      "outputs": [
        {
          "output_type": "execute_result",
          "data": {
            "text/plain": [
              "Index(['match_id', 'custom_match_id', 'season', 'type_clean',\n",
              "       'competition_code', 'competition', 'gender', 'venue', 'date',\n",
              "       'timestamp', 'inning_number', 'id', 'overs_unique', 'overs_actual',\n",
              "       'over_number', 'ball_number', 'balls_remaining', 'total_inning_runs',\n",
              "       'run_rate', 'target', 'total_inning_wickets', 'bowl_team',\n",
              "       'bowl_team_id', 'bowl_team_abbr', 'bowler_cricinfo_id',\n",
              "       'bowler_player_id', 'bowler', 'bowling_hand', 'bowling_pacespin',\n",
              "       'bowling_style_long', 'bowler_wickets_cumulative', 'title', 'bat_team',\n",
              "       'bat_team_id', 'bat_team_abbr', 'batter_cricinfo_id',\n",
              "       'batter_player_id', 'batter', 'batting_style', 'batter_runs_cumulative',\n",
              "       'total_runs', 'runs_off_bat', 'byes', 'legbyes', 'wides', 'noballs',\n",
              "       'penalties', 'extras', 'out_player_cricinfo_id', 'out_player_id',\n",
              "       'out_player', 'dismissal_type', 'dismissal_text_shot',\n",
              "       'dismissal_text_long', 'dismissal_text_commentary', 'Stage'],\n",
              "      dtype='object')"
            ]
          },
          "metadata": {},
          "execution_count": 23
        }
      ]
    },
    {
      "cell_type": "code",
      "source": [
        "#OVERALL METRICS\n",
        "\n",
        "#highest runs\n",
        "\n",
        "# Calculate total runs per batter\n",
        "total_runs_per_batter = data.groupby('batter')['total_runs'].sum().reset_index(name='Total_Runs_Tournament')\n",
        "\n",
        "# Calculate total balls faced per batter\n",
        "total_balls_per_batter = data[(data['wides'] == 0) & (data['noballs'] == 0)].groupby('batter')['overs_actual'].count().reset_index(name='total_balls_used')\n",
        "\n",
        "# Calculate highest score per batter using batter_runs_cumulative\n",
        "highest_score_per_batter = data.groupby('batter')['batter_runs_cumulative'].max().reset_index(name='highest_score')\n",
        "\n",
        "# Merge the total runs, total balls, and highest score data\n",
        "batter_stats = pd.merge(total_runs_per_batter, total_balls_per_batter, on='batter')\n",
        "batter_stats = pd.merge(batter_stats, highest_score_per_batter, on='batter')\n",
        "\n",
        "# Get the team information\n",
        "bat_team_info = data[['batter', 'bat_team']].drop_duplicates()\n",
        "\n",
        "# Merge with the batter stats\n",
        "batter_stats = pd.merge(batter_stats, bat_team_info, on='batter')\n",
        "\n",
        "# Sort by total runs in descending order and add rank\n",
        "batter_stats = batter_stats.sort_values(by='Total_Runs_Tournament', ascending=False)\n",
        "batter_stats['rank'] = range(1, len(batter_stats) + 1)\n",
        "\n",
        "# Filter the top 5 run-scorers\n",
        "top_5_run_scorers = batter_stats.head(5)\n",
        "\n",
        "# Arrange columns as specified\n",
        "top_5_run_scorers = top_5_run_scorers[['batter', 'bat_team', 'Total_Runs_Tournament', 'total_balls_used', 'rank', 'highest_score']]\n",
        "\n",
        "# Display the final DataFrame\n",
        "print(top_5_run_scorers)\n"
      ],
      "metadata": {
        "colab": {
          "base_uri": "https://localhost:8080/"
        },
        "id": "i2NLhjoIQHUj",
        "outputId": "c383b186-a4e5-4669-9357-095c108d90d0",
        "collapsed": true
      },
      "execution_count": null,
      "outputs": [
        {
          "output_type": "stream",
          "name": "stdout",
          "text": [
            "                 batter      bat_team  Total_Runs_Tournament  \\\n",
            "179  Rahmanullah Gurbaz   Afghanistan                    303   \n",
            "234         Travis Head     Australia                    265   \n",
            "192        Rohit Sharma         India                    264   \n",
            "176     Quinton de Kock  South Africa                    256   \n",
            "82       Ibrahim Zadran   Afghanistan                    255   \n",
            "\n",
            "     total_balls_used  rank  highest_score  \n",
            "179               226     1             80  \n",
            "234               161     2             76  \n",
            "192               164     3             92  \n",
            "176               170     4             74  \n",
            "82                214     5             70  \n"
          ]
        }
      ]
    },
    {
      "cell_type": "code",
      "source": [
        "#Highest 4s\n",
        "# Filter data for runs that are 4\n",
        "fours_data = data[data['runs_off_bat'] == 4]\n",
        "\n",
        "# Group by 'batter' and 'bat_team' to calculate the count of 4s and the total runs from 4s\n",
        "four_stats = fours_data.groupby(['batter', 'bat_team']).agg(four_count=('runs_off_bat', 'size'), four_runs=('runs_off_bat', 'sum')).reset_index()\n",
        "\n",
        "# Sort by 'four_count' in descending order and select the top 5\n",
        "top_5_fours = four_stats.sort_values(by='four_count', ascending=False).head(5)\n",
        "\n",
        "# Add rank\n",
        "top_5_fours['rank'] = range(1, len(top_5_fours) + 1)\n",
        "\n",
        "# Display the final DataFrame\n",
        "print(top_5_fours)\n",
        "\n"
      ],
      "metadata": {
        "colab": {
          "base_uri": "https://localhost:8080/"
        },
        "id": "7nv27r8nQHXo",
        "outputId": "f9965cd3-aa77-48d1-f6b5-3a9b365fb1e6",
        "collapsed": true
      },
      "execution_count": null,
      "outputs": [
        {
          "output_type": "stream",
          "name": "stdout",
          "text": [
            "              batter      bat_team  four_count  four_runs  rank\n",
            "168      Travis Head     Australia          26        104     1\n",
            "61    Ibrahim Zadran   Afghanistan          25        100     2\n",
            "138     Rohit Sharma         India          24         96     3\n",
            "71       Jos Buttler       England          22         88     4\n",
            "127  Quinton de Kock  South Africa          21         84     5\n"
          ]
        }
      ]
    },
    {
      "cell_type": "code",
      "source": [
        "#Highest 6s\n",
        "# Filter data for runs that are 6\n",
        "six_data = data[data['runs_off_bat'] == 6]\n",
        "\n",
        "# Group by 'batter' and 'bat_team' to calculate the count of 6s and the total runs from 6s\n",
        "six_stats = six_data.groupby(['batter', 'bat_team']).agg(six_count=('runs_off_bat', 'size'), six_runs=('runs_off_bat', 'sum')).reset_index()\n",
        "\n",
        "# Sort by 'six_count' in descending order and select the top 5\n",
        "top_5_six = six_stats.sort_values(by='six_count', ascending=False).head(5)\n",
        "\n",
        "# Add rank\n",
        "top_5_six['rank'] = range(1, len(top_5_six) + 1)\n",
        "\n",
        "# Display the final DataFrame\n",
        "print(top_5_six)"
      ],
      "metadata": {
        "colab": {
          "base_uri": "https://localhost:8080/"
        },
        "id": "GCNQ1bYGQHjX",
        "outputId": "30b6922e-7bb1-486a-87b0-73281fc02b9e",
        "collapsed": true
      },
      "execution_count": null,
      "outputs": [
        {
          "output_type": "stream",
          "name": "stdout",
          "text": [
            "                 batter                  bat_team  six_count  six_runs  rank\n",
            "89      Nicholas Pooran               West Indies         17       102     1\n",
            "99   Rahmanullah Gurbaz               Afghanistan         16        96     2\n",
            "107        Rohit Sharma                     India         15        90     3\n",
            "129         Travis Head                 Australia         15        90     4\n",
            "1           Aaron Jones  United States of America         14        84     5\n"
          ]
        }
      ]
    },
    {
      "cell_type": "code",
      "source": [
        "#Highest Wickets\n",
        "\n",
        "\n",
        "# Step 1: Filter rows where wickets were taken (out_player_id is not null) and the dismissal is not \"run out\"\n",
        "wickets_data = data[(data['out_player_id'].notnull()) & (data['dismissal_text_shot'] != 'run out')]\n",
        "\n",
        "# Step 2: Group by bowler_player_id and count occurrences of out_player_id\n",
        "wickets_count = wickets_data.groupby('bowler_player_id')['out_player_id'].count().reset_index(name='Total_wickets_WC')\n",
        "\n",
        "# Step 3: Sort the wickets_count in descending order and select top 5\n",
        "top_5_wicket_takers = wickets_count.nlargest(5, 'Total_wickets_WC')\n",
        "\n",
        "# Step 4: Retrieve names and bowl teams for the top 5 wicket takers\n",
        "top_5_wkts_info = data[data['bowler_player_id'].isin(top_5_wicket_takers['bowler_player_id'])][['bowler_player_id', 'bowler', 'bowl_team']]\n",
        "top_5_wkts_info = top_5_wkts_info.drop_duplicates().reset_index(drop=True)\n",
        "\n",
        "# Step 5: Merge with wickets_count to get total wickets and sort by it\n",
        "top_5_wkts_info = top_5_wkts_info.merge(top_5_wicket_takers, on='bowler_player_id')\n",
        "top_5_wkts_info= top_5_wkts_info.sort_values(by='Total_wickets_WC', ascending=False).reset_index(drop=True)\n",
        "\n",
        "# Step 6: Add Rank column\n",
        "top_5_wkts_info['Rank'] = top_5_wkts_info['Total_wickets_WC'].rank(method='min', ascending=False).astype(int)\n",
        "\n",
        "# Display the sorted top 5 wicket takers along with their names, bowl teams, total wickets, and rank\n",
        "print(\"Top 5 Wicket Takers:\")\n",
        "print(top_5_wkts_info[['bowler', 'bowl_team', 'Total_wickets_WC', 'Rank']])\n"
      ],
      "metadata": {
        "colab": {
          "base_uri": "https://localhost:8080/"
        },
        "id": "brkrr0SNWDbz",
        "outputId": "23ec9b95-682a-4622-f9d0-43be7bd19e79",
        "collapsed": true
      },
      "execution_count": null,
      "outputs": [
        {
          "output_type": "stream",
          "name": "stdout",
          "text": [
            "Top 5 Wicket Takers:\n",
            "             bowler     bowl_team  Total_wickets_WC  Rank\n",
            "0  Fazalhaq Farooqi   Afghanistan                17     1\n",
            "1    Arshdeep Singh         India                17     1\n",
            "2     Anrich Nortje  South Africa                15     3\n",
            "3    Jasprit Bumrah         India                15     3\n",
            "4       Rashid Khan   Afghanistan                14     5\n"
          ]
        }
      ]
    },
    {
      "cell_type": "code",
      "source": [
        "#Lowest economy\n",
        "\n",
        "# Step 1: Remove duplicate over_number values for each bowler within each match\n",
        "unique_overs = data[['match_id', 'bowler', 'bowl_team', 'over_number']].drop_duplicates()\n",
        "\n",
        "# Step 2: Group by bowler to count the unique overs bowled by each bowler\n",
        "bowler_total_overs = unique_overs.groupby('bowler')['over_number'].count().reset_index(name='total_overs')\n",
        "\n",
        "# Step 3: Group by bowler to sum the total runs conceded by each bowler\n",
        "bowler_total_runs_conceded = data.groupby('bowler')['total_runs'].sum().reset_index(name='total_runs_conceded')\n",
        "\n",
        "# Step 4: Calculate the economy rate for each bowler\n",
        "economy_rate_df = pd.merge(bowler_total_overs, bowler_total_runs_conceded, on='bowler')\n",
        "economy_rate_df['economy_rate'] = economy_rate_df['total_runs_conceded'] / economy_rate_df['total_overs']\n",
        "\n",
        "# Step 5: Merge bowl_team into economy_rate_df\n",
        "economy_rate_df = pd.merge(economy_rate_df, data[['bowler', 'bowl_team']].drop_duplicates(), on='bowler', how='left')\n",
        "\n",
        "# Step 6: Filter bowlers who have bowled 30 or more overs\n",
        "qualified_bowlers = economy_rate_df[economy_rate_df['total_overs'] >= 30]\n",
        "\n",
        "# Step 7: Get top 5 bowlers with lowest economy rates\n",
        "top_5_bowlers_eco = qualified_bowlers.nsmallest(5, 'economy_rate')\n",
        "\n",
        "# Step 8: Add Rank column\n",
        "top_5_bowlers_eco['Rank'] = range(1, len(top_5_bowlers_eco) + 1)\n",
        "\n",
        "# Step 9: Display the top 5 bowlers with lowest economy rates\n",
        "print(\"\\nTop 5 Bowlers with Lowest Economy Rates (30 or More Overs):\")\n",
        "print(top_5_bowlers_eco[['bowler', 'bowl_team', 'economy_rate', 'total_overs', 'total_runs_conceded', 'Rank']])\n",
        "\n",
        "\n",
        "\n",
        "\n"
      ],
      "metadata": {
        "colab": {
          "base_uri": "https://localhost:8080/"
        },
        "id": "jkyBQeOtWDo5",
        "outputId": "0871c909-4c62-4b35-ce59-bda3536d31b5"
      },
      "execution_count": null,
      "outputs": [
        {
          "output_type": "stream",
          "name": "stdout",
          "text": [
            "\n",
            "Top 5 Bowlers with Lowest Economy Rates (30 or More Overs):\n",
            "            bowler     bowl_team  economy_rate  total_overs  \\\n",
            "67  Jasprit Bumrah         India      4.600000           30   \n",
            "12   Anrich Nortje  South Africa      5.971429           35   \n",
            "76   Kagiso Rabada  South Africa      6.451613           31   \n",
            "91    Marco Jansen  South Africa      6.875000           32   \n",
            "14  Arshdeep Singh         India      7.433333           30   \n",
            "\n",
            "    total_runs_conceded  Rank  \n",
            "67                  138     1  \n",
            "12                  209     2  \n",
            "76                  200     3  \n",
            "91                  220     4  \n",
            "14                  223     5  \n"
          ]
        }
      ]
    },
    {
      "cell_type": "code",
      "source": [
        "#Wides count\n",
        "# Filter rows where wides were bowled\n",
        "wides_data = data[data['wides'] > 0]\n",
        "\n",
        "# Group by the bowling team to get the sum of wides runs for each team\n",
        "wides_runs_by_team = wides_data.groupby('bowl_team')['wides'].sum().reset_index(name='wides_runs')\n",
        "\n",
        "# Group by the bowling team to get the count of wides for each team\n",
        "wides_count_by_team = wides_data.groupby('bowl_team')['wides'].count().reset_index(name='wides_count')\n",
        "\n",
        "# Merge the two results on 'bowl_team'\n",
        "wides_stats_by_team = pd.merge(wides_runs_by_team, wides_count_by_team, on='bowl_team')\n",
        "\n",
        "# Sort the results by wides_count in descending order\n",
        "wides_stats_by_team = wides_stats_by_team.sort_values(by='wides_count', ascending=False)\n",
        "\n",
        "# Add Rank column\n",
        "wides_stats_by_team['Rank'] = range(1, len(wides_stats_by_team) + 1)\n",
        "\n",
        "# Display the result\n",
        "print(\"Most wides by teams\")\n",
        "print(wides_stats_by_team[['bowl_team', 'wides_runs', 'wides_count', 'Rank']])\n"
      ],
      "metadata": {
        "colab": {
          "base_uri": "https://localhost:8080/"
        },
        "id": "t1X1GuLriPGh",
        "outputId": "fb0e29fd-f863-4e0e-9fa5-cd96695fb17f"
      },
      "execution_count": null,
      "outputs": [
        {
          "output_type": "stream",
          "name": "stdout",
          "text": [
            "Most wides by teams\n",
            "                   bowl_team  wides_runs  wides_count  Rank\n",
            "15              South Africa          46           46     1\n",
            "1                  Australia          41           35     2\n",
            "0                Afghanistan          54           33     3\n",
            "4                    England          30           30     4\n",
            "19               West Indies          37           30     5\n",
            "5                      India          36           27     6\n",
            "12                  Pakistan          30           22     7\n",
            "3                     Canada          28           20     8\n",
            "18  United States of America          25           20     9\n",
            "16                 Sri Lanka          19           19    10\n",
            "9                Netherlands          17           17    11\n",
            "2                 Bangladesh          28           17    12\n",
            "13          Papua New Guinea          20           15    13\n",
            "6                    Ireland          14           14    14\n",
            "17                    Uganda          17           12    15\n",
            "10               New Zealand          12           12    16\n",
            "7                    Namibia          16           11    17\n",
            "14                  Scotland          11           10    18\n",
            "8                      Nepal           8            8    19\n",
            "11                      Oman           9            4    20\n"
          ]
        }
      ]
    },
    {
      "cell_type": "code",
      "source": [
        "#Most dot balls by bat team\n",
        "# Filter rows where no runs were scored (dot balls)\n",
        "dots = data[data['total_runs'] == 0]\n",
        "\n",
        "# Group by the batting team to get the count of dot balls for each team\n",
        "dots_p = dots.groupby('bat_team')['total_runs'].count().reset_index(name='total_dot_balls')\n",
        "\n",
        "# Sort the results by total_dot_balls in descending order\n",
        "dots_by_team = dots_p.sort_values(by='total_dot_balls', ascending=False)\n",
        "\n",
        "# Add Rank column\n",
        "dots_by_team['Rank'] = range(1, len(dots_by_team) + 1)\n",
        "\n",
        "# Display the result\n",
        "print(\"Most Dot Balls Played by a Batting Team:\")\n",
        "print(dots_by_team[['bat_team', 'total_dot_balls', 'Rank']])"
      ],
      "metadata": {
        "colab": {
          "base_uri": "https://localhost:8080/"
        },
        "id": "GO596WKliPI-",
        "outputId": "22dfb030-4861-4b10-91f0-dd0f9b3c5224"
      },
      "execution_count": null,
      "outputs": [
        {
          "output_type": "stream",
          "name": "stdout",
          "text": [
            "Most Dot Balls Played by a Batting Team:\n",
            "                    bat_team  total_dot_balls  Rank\n",
            "15              South Africa              420     1\n",
            "0                Afghanistan              397     2\n",
            "2                 Bangladesh              364     3\n",
            "5                      India              340     4\n",
            "19               West Indies              315     5\n",
            "18  United States of America              305     6\n",
            "1                  Australia              269     7\n",
            "13          Papua New Guinea              265     8\n",
            "17                    Uganda              262     9\n",
            "11                      Oman              212    10\n",
            "9                Netherlands              211    11\n",
            "8                      Nepal              207    12\n",
            "7                    Namibia              197    13\n",
            "12                  Pakistan              196    14\n",
            "4                    England              190    15\n",
            "6                    Ireland              182    16\n",
            "16                 Sri Lanka              160    17\n",
            "3                     Canada              156    18\n",
            "10               New Zealand              155    19\n",
            "14                  Scotland              105    20\n"
          ]
        }
      ]
    },
    {
      "cell_type": "code",
      "source": [
        "# Filter rows where no runs were scored (dot balls)\n",
        "dots = data[data['total_runs'] == 0]\n",
        "\n",
        "# Group by batter and batting team to get the count of dot balls for each batter\n",
        "dots_p = dots.groupby(['batter', 'bat_team'])['total_runs'].count().reset_index(name='total_dot_balls')\n",
        "\n",
        "# Get the top 5 batters with the most dot balls\n",
        "most_dot_balls_batters = dots_p.nlargest(5, 'total_dot_balls')\n",
        "\n",
        "# Add Rank column\n",
        "most_dot_balls_batters['Rank'] = range(1, len(most_dot_balls_batters) + 1)\n",
        "\n",
        "# Display the result\n",
        "print(\"Most Dot Balls Played by a Batter:\")\n",
        "print(most_dot_balls_batters[['batter', 'bat_team', 'total_dot_balls', 'Rank']])\n"
      ],
      "metadata": {
        "colab": {
          "base_uri": "https://localhost:8080/"
        },
        "id": "nRYL5u03iPLg",
        "outputId": "c7058acb-1ad7-4076-fece-be90ce9dba0e"
      },
      "execution_count": null,
      "outputs": [
        {
          "output_type": "stream",
          "name": "stdout",
          "text": [
            "Most Dot Balls Played by a Batter:\n",
            "                 batter      bat_team  total_dot_balls  Rank\n",
            "176  Rahmanullah Gurbaz   Afghanistan               99     1\n",
            "80       Ibrahim Zadran   Afghanistan               95     2\n",
            "48         David Miller  South Africa               76     3\n",
            "181     Riazat Ali Shah        Uganda               72     4\n",
            "118          Litton Das    Bangladesh               69     5\n"
          ]
        }
      ]
    },
    {
      "cell_type": "code",
      "source": [
        "# Filter data for boundaries and exclude 'Group Stage'\n",
        "stage = data[(data['runs_off_bat'].isin([4, 6])) & (data['Stage'] != 'Group Stage')]\n",
        "\n",
        "# Group by 'bat_team' to count the number of boundary runs (4s and 6s)\n",
        "boundary_sum_per_team = stage.groupby('bat_team')['runs_off_bat'].sum().reset_index(name='total_boundary_runs')\n",
        "\n",
        "# Calculate total runs per team\n",
        "total_runs_per_team = data[data['Stage'] != 'Group Stage'].groupby('bat_team')['total_runs'].sum().reset_index(name='total_runs')\n",
        "\n",
        "# Merge the boundary runs and total runs data\n",
        "boundary_rate_df = pd.merge(boundary_sum_per_team, total_runs_per_team, on='bat_team')\n",
        "\n",
        "# Calculate the boundary rate as a percentage\n",
        "boundary_rate_df['boundary_rate'] = (boundary_rate_df['total_boundary_runs'] / boundary_rate_df['total_runs']) * 100\n",
        "\n",
        "# Sort the DataFrame by boundary rate in descending order\n",
        "boundary_rate_df = boundary_rate_df.sort_values(by='boundary_rate', ascending=False)\n",
        "\n",
        "# Add rank column\n",
        "boundary_rate_df['rank'] = boundary_rate_df['boundary_rate'].rank(method='min', ascending=False).astype(int)\n",
        "\n",
        "# Display the DataFrame with boundary rates and rank\n",
        "print(\"\\nBoundary Rate for Teams (Top-8, Excluding Group Stage):\")\n",
        "print(boundary_rate_df)\n"
      ],
      "metadata": {
        "colab": {
          "base_uri": "https://localhost:8080/"
        },
        "id": "I0zMbzvLtAzg",
        "outputId": "b8beece5-1425-4b94-ee3f-b01c1da0f28e"
      },
      "execution_count": null,
      "outputs": [
        {
          "output_type": "stream",
          "name": "stdout",
          "text": [
            "\n",
            "Boundary Rate for Teams (Top-8, Excluding Group Stage):\n",
            "                   bat_team  total_boundary_runs  total_runs  boundary_rate  \\\n",
            "7               West Indies                  280         445      62.921348   \n",
            "4                     India                  572         929      61.571582   \n",
            "1                 Australia                  248         408      60.784314   \n",
            "5              South Africa                  402         710      56.619718   \n",
            "6  United States of America                  226         419      53.937947   \n",
            "3                   England                  298         557      53.500898   \n",
            "0               Afghanistan                  224         453      49.448124   \n",
            "2                Bangladesh                  192         391      49.104859   \n",
            "\n",
            "   rank  \n",
            "7     1  \n",
            "4     2  \n",
            "1     3  \n",
            "5     4  \n",
            "6     5  \n",
            "3     6  \n",
            "0     7  \n",
            "2     8  \n"
          ]
        }
      ]
    },
    {
      "cell_type": "code",
      "source": [
        "# Filter data for boundaries and exclude 'Group Stage'\n",
        "stage = data[(data['runs_off_bat'].isin([4, 6])) & (data['Stage'] != 'Group Stage')]\n",
        "\n",
        "# Group by 'batter' to count the number of boundary runs (4s and 6s)\n",
        "boundary_sum_per_batter = stage.groupby('batter')['runs_off_bat'].sum().reset_index(name='total_boundary_runs')\n",
        "\n",
        "# Calculate total runs per batter\n",
        "total_runs_per_batter = data[data['Stage'] != 'Group Stage'].groupby('batter')['total_runs'].sum().reset_index(name='total_runs')\n",
        "\n",
        "# Calculate total balls faced per batter\n",
        "total_balls_per_batter = data[(data['Stage'] != 'Group Stage') & (data['wides'] == 0) & (data['noballs'] == 0)].groupby('batter')['overs_actual'].count().reset_index(name='total_balls')\n",
        "\n",
        "# Get the unique batters and their corresponding teams\n",
        "unique_batters_teams = data[data['Stage'] != 'Group Stage'][['batter', 'bat_team']].drop_duplicates()\n",
        "\n",
        "# Merge the boundary runs, total runs, and total balls data\n",
        "boundary_rate_batter_df = pd.merge(boundary_sum_per_batter, total_runs_per_batter, on='batter')\n",
        "boundary_rate_batter_df = pd.merge(boundary_rate_batter_df, total_balls_per_batter, on='batter')\n",
        "boundary_rate_batter_df = pd.merge(boundary_rate_batter_df, unique_batters_teams, on='batter')\n",
        "\n",
        "# Calculate the boundary rate as a percentage\n",
        "boundary_rate_batter_df['boundary_rate'] = (boundary_rate_batter_df['total_boundary_runs'] / boundary_rate_batter_df['total_runs']) * 100\n",
        "\n",
        "# Filter batters who have faced 50 or more balls\n",
        "boundary_rate_batter_df = boundary_rate_batter_df[boundary_rate_batter_df['total_balls'] >= 50]\n",
        "\n",
        "# Sort the DataFrame by boundary rate in descending order and keep only the top 10\n",
        "boundary_rate_batter_df = boundary_rate_batter_df.sort_values(by='boundary_rate', ascending=False).head(10)\n",
        "\n",
        "# Add rank column\n",
        "boundary_rate_batter_df['rank'] = boundary_rate_batter_df['boundary_rate'].rank(method='min', ascending=False).astype(int)\n",
        "\n",
        "# Display the DataFrame with boundary rates\n",
        "print(boundary_rate_batter_df[['batter', 'bat_team', 'total_boundary_runs', 'total_runs', 'total_balls', 'boundary_rate', 'rank']])\n"
      ],
      "metadata": {
        "id": "1WAMzbsttA_P",
        "colab": {
          "base_uri": "https://localhost:8080/"
        },
        "outputId": "605ef9ac-eee4-4946-cb39-617107a9701c"
      },
      "execution_count": null,
      "outputs": [
        {
          "output_type": "stream",
          "name": "stdout",
          "text": [
            "              batter                  bat_team  total_boundary_runs  \\\n",
            "72       Travis Head                 Australia                   84   \n",
            "55      Rohit Sharma                     India                  142   \n",
            "15     Glenn Maxwell                 Australia                   66   \n",
            "67  Suryakumar Yadav                     India                   96   \n",
            "48   Quinton de Kock              South Africa                  136   \n",
            "53      Rishabh Pant                     India                   54   \n",
            "18     Hardik Pandya                     India                   94   \n",
            "7       Andries Gous  United States of America                   74   \n",
            "26       Jos Buttler                   England                   94   \n",
            "21  Heinrich Klaasen              South Africa                   78   \n",
            "\n",
            "    total_runs  total_balls  boundary_rate  rank  \n",
            "72         114           67      73.684211     1  \n",
            "55         193          109      73.575130     2  \n",
            "15          95           59      69.473684     3  \n",
            "67         142           86      67.605634     4  \n",
            "48         203          122      66.995074     5  \n",
            "53          81           57      66.666667     6  \n",
            "18         141           82      66.666667     6  \n",
            "7          120           67      61.666667     8  \n",
            "26         158           93      59.493671     9  \n",
            "21         132           71      59.090909    10  \n"
          ]
        }
      ]
    },
    {
      "cell_type": "code",
      "source": [
        "#BOUNDARY RATE\n",
        "#BOWLING\n",
        "\n",
        "# Filter data for boundaries (4s and 6s)\n",
        "boundary_data = data[data['runs_off_bat'].isin([4, 6])]\n",
        "\n",
        "# Group by 'bowler' to count boundaries conceded and total balls bowled\n",
        "boundary_count_per_bowler = boundary_data.groupby('bowler')['runs_off_bat'].count().reset_index(name='boundary_count')\n",
        "balls_bowled_per_bowler = data.groupby('bowler')['overs_actual'].count().reset_index(name='balls_bowled')\n",
        "\n",
        "# Get the unique bowlers and their corresponding teams\n",
        "unique_bowlers_teams = data[['bowler', 'bowl_team']].drop_duplicates()\n",
        "\n",
        "# Merge boundary count, balls bowled data, and bowl team\n",
        "boundary_frequency_df = pd.merge(boundary_count_per_bowler, balls_bowled_per_bowler, on='bowler')\n",
        "boundary_frequency_df = pd.merge(boundary_frequency_df, unique_bowlers_teams, on='bowler')\n",
        "\n",
        "# Calculate boundary frequency rate (boundaries conceded per ball)\n",
        "boundary_frequency_df['boundary_rate_bowler'] = boundary_frequency_df['balls_bowled'] / boundary_frequency_df['boundary_count']\n",
        "\n",
        "# Filter bowlers who have bowled at least 15 overs (assuming 1 over = 6 balls)\n",
        "boundary_frequency_df = boundary_frequency_df[boundary_frequency_df['balls_bowled'] >= 120]  # 20 overs * 6 balls per over\n",
        "\n",
        "# Sort the DataFrame by boundary frequency rate in ascending order and keep only the top 5\n",
        "top_5_bowlers_boundary_frequency = boundary_frequency_df.sort_values(by='boundary_rate_bowler', ascending=True).head(5)\n",
        "\n",
        "# Add rank column\n",
        "top_5_bowlers_boundary_frequency['rank'] = top_5_bowlers_boundary_frequency['boundary_rate_bowler'].rank(method='min', ascending=True).astype(int)\n",
        "\n",
        "# Display the top 5 bowlers with lowest boundary frequency rates\n",
        "print(\"Top 5 Bowlers with Lowest Boundary Count:\")\n",
        "print(top_5_bowlers_boundary_frequency[['bowler', 'bowl_team', 'boundary_rate_bowler', 'rank']])\n",
        "\n",
        "\n",
        "\n",
        "\n"
      ],
      "metadata": {
        "id": "vQdgDbcEtBH8",
        "colab": {
          "base_uri": "https://localhost:8080/"
        },
        "outputId": "674a6e1f-afc6-4c85-ba7e-dfd1f90db527"
      },
      "execution_count": null,
      "outputs": [
        {
          "output_type": "stream",
          "name": "stdout",
          "text": [
            "Top 5 Bowlers with Lowest Boundary Count:\n",
            "             bowler                 bowl_team  boundary_rate_bowler  rank\n",
            "68     Jofra Archer                   England              6.040000     1\n",
            "7          Ali Khan  United States of America              6.047619     2\n",
            "152    Taskin Ahmed                Bangladesh              6.190476     3\n",
            "56    Hardik Pandya                     India              6.280000     4\n",
            "128  Rishad Hossain                Bangladesh              6.695652     5\n"
          ]
        }
      ]
    },
    {
      "cell_type": "code",
      "source": [
        "#BATTING\n",
        "#AVG RUN RATE(PP)\n",
        "# Define a function to calculate average run rate during powerplay\n",
        "def calculate_avg_run_rate(data, stage):\n",
        "    filtered_data = data[(data['Stage'] == stage) & (data['over_number'] >= 1) & (data['over_number'] <= 6)]\n",
        "    team_avg = filtered_data.groupby('bat_team')['run_rate'].mean()\n",
        "    return team_avg.reset_index(name=f'{stage}_avg_runrate_PP')\n",
        "\n",
        "# Calculate average run rates for each stage\n",
        "group_stage_avg = calculate_avg_run_rate(data, 'Group Stage')\n",
        "top_8_avg = calculate_avg_run_rate(data, 'Super_8')\n",
        "semi_final_avg = calculate_avg_run_rate(data, 'Semi_final')\n",
        "final_avg = calculate_avg_run_rate(data, 'Final')\n",
        "\n",
        "# Merge the results into a single DataFrame\n",
        "result_df = group_stage_avg.merge(top_8_avg, on='bat_team', how='left')\n",
        "result_df = result_df.merge(semi_final_avg, on='bat_team', how='left')\n",
        "result_df = result_df.merge(final_avg, on='bat_team', how='left')\n",
        "\n",
        "# Rename columns for clarity\n",
        "result_df.columns = [\n",
        "    'bat_team',\n",
        "    'Group_stage_avg_runrate_PP',\n",
        "    'Top_8_avg_runrate_PP',\n",
        "    'Semi_final_avg_runrate_PP',\n",
        "    'Final_avg_runrate_PP'\n",
        "]\n",
        "\n",
        "# Print the final DataFrame\n",
        "print(result_df)\n"
      ],
      "metadata": {
        "colab": {
          "base_uri": "https://localhost:8080/"
        },
        "id": "eCdwicv3iPOI",
        "outputId": "109582c0-070b-44c1-956a-9b1dd02b5746",
        "collapsed": true
      },
      "execution_count": null,
      "outputs": [
        {
          "output_type": "stream",
          "name": "stdout",
          "text": [
            "                    bat_team  Group_stage_avg_runrate_PP  \\\n",
            "0                Afghanistan                    7.010000   \n",
            "1                  Australia                    8.368333   \n",
            "2                 Bangladesh                    4.723113   \n",
            "3                     Canada                    8.071875   \n",
            "4                    England                    9.374947   \n",
            "5                      India                    6.560522   \n",
            "6                    Ireland                    4.615508   \n",
            "7                    Namibia                    5.028600   \n",
            "8                      Nepal                    4.814182   \n",
            "9                Netherlands                    5.211267   \n",
            "10               New Zealand                    5.429276   \n",
            "11                      Oman                    5.419128   \n",
            "12                  Pakistan                    6.108543   \n",
            "13          Papua New Guinea                    4.055789   \n",
            "14                  Scotland                    5.526053   \n",
            "15              South Africa                    4.910267   \n",
            "16                 Sri Lanka                    5.361842   \n",
            "17                    Uganda                    3.481364   \n",
            "18  United States of America                    5.113761   \n",
            "19               West Indies                    8.228742   \n",
            "\n",
            "    Top_8_avg_runrate_PP  Semi_final_avg_runrate_PP  Final_avg_runrate_PP  \n",
            "0               5.760818                   5.001750                   NaN  \n",
            "1               6.643119                        NaN                   NaN  \n",
            "2               6.054914                        NaN                   NaN  \n",
            "3                    NaN                        NaN                   NaN  \n",
            "4               7.111491                   6.911667                   NaN  \n",
            "5               7.389550                   6.826667             10.260833  \n",
            "6                    NaN                        NaN                   NaN  \n",
            "7                    NaN                        NaN                   NaN  \n",
            "8                    NaN                        NaN                   NaN  \n",
            "9                    NaN                        NaN                   NaN  \n",
            "10                   NaN                        NaN                   NaN  \n",
            "11                   NaN                        NaN                   NaN  \n",
            "12                   NaN                        NaN                   NaN  \n",
            "13                   NaN                        NaN                   NaN  \n",
            "14                   NaN                        NaN                   NaN  \n",
            "15              7.736637                   3.075789              5.128611  \n",
            "16                   NaN                        NaN                   NaN  \n",
            "17                   NaN                        NaN                   NaN  \n",
            "18              7.206486                        NaN                   NaN  \n",
            "19              6.702857                        NaN                   NaN  \n"
          ]
        }
      ]
    },
    {
      "cell_type": "code",
      "source": [
        "#AVG RUN RATE(mo)\n",
        "\n",
        "# Define a function to calculate average run rate during middle overs\n",
        "def calculate_avg_run_rate_middle_overs(data, stage):\n",
        "    filtered_data = data[(data['Stage'] == stage) & (data['over_number'] >= 7) & (data['over_number'] <= 15)]\n",
        "    team_avg = filtered_data.groupby('bat_team')['run_rate'].mean()\n",
        "    return team_avg.reset_index(name=f'{stage}_avg_runrate_MO')\n",
        "\n",
        "# Calculate average run rates for each stage during middle overs\n",
        "group_stage_avg_mo = calculate_avg_run_rate_middle_overs(data, 'Group Stage')\n",
        "top_8_avg_mo = calculate_avg_run_rate_middle_overs(data, 'Super_8')\n",
        "semi_final_avg_mo = calculate_avg_run_rate_middle_overs(data, 'Semi_final')\n",
        "final_avg_mo = calculate_avg_run_rate_middle_overs(data, 'Final')\n",
        "\n",
        "# Merge the results into a single DataFrame\n",
        "result_df_mo = group_stage_avg_mo.merge(top_8_avg_mo, on='bat_team', how='left')\n",
        "result_df_mo = result_df_mo.merge(semi_final_avg_mo, on='bat_team', how='left')\n",
        "result_df_mo = result_df_mo.merge(final_avg_mo, on='bat_team', how='left')\n",
        "\n",
        "# Rename columns for clarity\n",
        "result_df_mo.columns = [\n",
        "    'bat_team',\n",
        "    'Group_stage_avg_runrate_MO',\n",
        "    'Top_8_avg_runrate_MO',\n",
        "    'Semi_final_avg_runrate_MO',\n",
        "    'Final_avg_runrate_MO'\n",
        "]\n",
        "\n",
        "# Print the final DataFrame for middle overs\n",
        "print(result_df_mo)\n"
      ],
      "metadata": {
        "colab": {
          "base_uri": "https://localhost:8080/"
        },
        "id": "CMDoNVsviPQy",
        "outputId": "9b353fd1-0962-4896-99b4-6a1507128582",
        "collapsed": true
      },
      "execution_count": null,
      "outputs": [
        {
          "output_type": "stream",
          "name": "stdout",
          "text": [
            "                    bat_team  Group_stage_avg_runrate_MO  \\\n",
            "0                Afghanistan                    7.616438   \n",
            "1                  Australia                    7.876190   \n",
            "2                 Bangladesh                    6.240308   \n",
            "3                     Canada                    6.766946   \n",
            "4                    England                    9.515443   \n",
            "5                      India                    6.435461   \n",
            "6                    Ireland                    5.175879   \n",
            "7                    Namibia                    5.575632   \n",
            "8                      Nepal                    4.909647   \n",
            "9                Netherlands                    5.920586   \n",
            "10               New Zealand                    5.537315   \n",
            "11                      Oman                    5.520829   \n",
            "12                  Pakistan                    5.880864   \n",
            "13          Papua New Guinea                    4.539819   \n",
            "14                  Scotland                    8.974679   \n",
            "15              South Africa                    4.821000   \n",
            "16                 Sri Lanka                    6.463091   \n",
            "17                    Uganda                    3.270000   \n",
            "18  United States of America                    6.889716   \n",
            "19               West Indies                    8.081636   \n",
            "\n",
            "    Top_8_avg_runrate_MO  Semi_final_avg_runrate_MO  Final_avg_runrate_MO  \n",
            "0               6.190706                   4.727027                   NaN  \n",
            "1               8.418803                        NaN                   NaN  \n",
            "2               6.896988                        NaN                   NaN  \n",
            "3                    NaN                        NaN                   NaN  \n",
            "4               8.048768                   6.017593                   NaN  \n",
            "5               9.269763                   7.915741              7.525345  \n",
            "6                    NaN                        NaN                   NaN  \n",
            "7                    NaN                        NaN                   NaN  \n",
            "8                    NaN                        NaN                   NaN  \n",
            "9                    NaN                        NaN                   NaN  \n",
            "10                   NaN                        NaN                   NaN  \n",
            "11                   NaN                        NaN                   NaN  \n",
            "12                   NaN                        NaN                   NaN  \n",
            "13                   NaN                        NaN                   NaN  \n",
            "14                   NaN                        NaN                   NaN  \n",
            "15              9.019235                   5.482222              8.200175  \n",
            "16                   NaN                        NaN                   NaN  \n",
            "17                   NaN                        NaN                   NaN  \n",
            "18              6.991893                        NaN                   NaN  \n",
            "19              8.389931                        NaN                   NaN  \n"
          ]
        }
      ]
    },
    {
      "cell_type": "code",
      "source": [
        "#AVG RUN RATE(DEATH)\n",
        "\n",
        "# Define a function to calculate average run rate during death overs\n",
        "def calculate_avg_run_rate_death_overs(data, stage):\n",
        "    filtered_data = data[(data['Stage'] == stage) & (data['over_number'] >= 16) & (data['over_number'] <= 20)]\n",
        "    team_avg = filtered_data.groupby('bat_team')['run_rate'].mean()\n",
        "    return team_avg.reset_index(name=f'{stage}_avg_runrate_DO')\n",
        "\n",
        "# Calculate average run rates for each stage during death overs\n",
        "group_stage_avg_do = calculate_avg_run_rate_death_overs(data, 'Group Stage')\n",
        "top_8_avg_do = calculate_avg_run_rate_death_overs(data, 'Super_8')\n",
        "semi_final_avg_do = calculate_avg_run_rate_death_overs(data, 'Semi_final')\n",
        "final_avg_do = calculate_avg_run_rate_death_overs(data, 'Final')\n",
        "\n",
        "# Merge the results into a single DataFrame\n",
        "result_df_do = group_stage_avg_do.merge(top_8_avg_do, on='bat_team', how='left')\n",
        "result_df_do = result_df_do.merge(semi_final_avg_do, on='bat_team', how='left')\n",
        "result_df_do = result_df_do.merge(final_avg_do, on='bat_team', how='left')\n",
        "\n",
        "# Rename columns for clarity\n",
        "result_df_do.columns = [\n",
        "    'bat_team',\n",
        "    'Group_stage_avg_runrate_DO',\n",
        "    'Top_8_avg_runrate_DO',\n",
        "    'Semi_final_avg_runrate_DO',\n",
        "    'Final_avg_runrate_DO'\n",
        "]\n",
        "\n",
        "# Print the final DataFrame for death overs\n",
        "print(result_df_do)\n"
      ],
      "metadata": {
        "colab": {
          "base_uri": "https://localhost:8080/"
        },
        "collapsed": true,
        "id": "6h60eGW2rX9u",
        "outputId": "e288b157-a97f-4ddb-ef91-6932bcac009d"
      },
      "execution_count": null,
      "outputs": [
        {
          "output_type": "stream",
          "name": "stdout",
          "text": [
            "                    bat_team  Group_stage_avg_runrate_DO  \\\n",
            "0                Afghanistan                    8.380000   \n",
            "1                  Australia                    8.949792   \n",
            "2                 Bangladesh                    6.118235   \n",
            "3                     Canada                    7.084043   \n",
            "4                    England                    8.130000   \n",
            "5                      India                    5.940667   \n",
            "6                    Ireland                    5.675373   \n",
            "7                    Namibia                    6.122973   \n",
            "8                      Nepal                    5.279157   \n",
            "9                Netherlands                    5.855789   \n",
            "10               New Zealand                    5.940625   \n",
            "11                      Oman                    6.189889   \n",
            "12                  Pakistan                    6.248155   \n",
            "13          Papua New Guinea                    4.839655   \n",
            "14                  Scotland                    8.592000   \n",
            "15              South Africa                    5.378280   \n",
            "16                 Sri Lanka                    6.759213   \n",
            "17                    Uganda                    3.358039   \n",
            "18  United States of America                    7.611410   \n",
            "19               West Indies                    7.962917   \n",
            "\n",
            "    Top_8_avg_runrate_DO  Semi_final_avg_runrate_DO  Final_avg_runrate_DO  \n",
            "0               6.488404                        NaN                   NaN  \n",
            "1               8.019167                        NaN                   NaN  \n",
            "2               6.809231                        NaN                   NaN  \n",
            "3                    NaN                        NaN                   NaN  \n",
            "4               8.631522                   6.088000                   NaN  \n",
            "5               9.415104                   8.117419              8.280303  \n",
            "6                    NaN                        NaN                   NaN  \n",
            "7                    NaN                        NaN                   NaN  \n",
            "8                    NaN                        NaN                   NaN  \n",
            "9                    NaN                        NaN                   NaN  \n",
            "10                   NaN                        NaN                   NaN  \n",
            "11                   NaN                        NaN                   NaN  \n",
            "12                   NaN                        NaN                   NaN  \n",
            "13                   NaN                        NaN                   NaN  \n",
            "14                   NaN                        NaN                   NaN  \n",
            "15              8.630141                        NaN              8.930323  \n",
            "16                   NaN                        NaN                   NaN  \n",
            "17                   NaN                        NaN                   NaN  \n",
            "18              7.266552                        NaN                   NaN  \n",
            "19              7.760317                        NaN                   NaN  \n"
          ]
        }
      ]
    },
    {
      "cell_type": "code",
      "source": [
        "#highest SR pp\n",
        "\n",
        "# Filter data for group stage and powerplay overs (1-6)\n",
        "group_stage_powerplay_data = data[(data['Stage'] == 'Group Stage') & (data['over_number'] >= 1) & (data['over_number'] <= 6)]\n",
        "\n",
        "# Remove duplicate over_number values for each batter within each match in powerplay\n",
        "unique_powerplay_batters = group_stage_powerplay_data[['match_id', 'batter', 'bat_team']].drop_duplicates()\n",
        "\n",
        "# Group by batter to calculate total runs scored by each batter in powerplay\n",
        "batter_total_powerplay_runs = group_stage_powerplay_data.groupby('batter')['total_runs'].sum().reset_index(name='total_powerplay_runs')\n",
        "\n",
        "# Calculate balls faced by each batter in powerplay\n",
        "batter_balls_faced_powerplay = group_stage_powerplay_data.groupby('batter')['overs_actual'].count().reset_index(name='balls_faced_powerplay')\n",
        "\n",
        "# Merge total runs and balls faced data\n",
        "batter_powerplay_stats = pd.merge(batter_total_powerplay_runs, batter_balls_faced_powerplay, on='batter')\n",
        "\n",
        "# Calculate strike rate for each batter in powerplay\n",
        "batter_powerplay_stats['strike_rate_powerplay'] = (batter_powerplay_stats['total_powerplay_runs'] / batter_powerplay_stats['balls_faced_powerplay']) * 100\n",
        "\n",
        "# Merge with 'bat_team' to get team information\n",
        "batter_powerplay_stats = pd.merge(batter_powerplay_stats, unique_powerplay_batters[['batter', 'bat_team']], on='batter')\n",
        "\n",
        "# Filter batters with 20 or more balls faced in powerplay\n",
        "batter_powerplay_stats = batter_powerplay_stats[batter_powerplay_stats['balls_faced_powerplay'] >= 50]\n",
        "\n",
        "# Sort by strike rate in descending order and drop duplicates to keep unique batters\n",
        "unique_batters_sorted = batter_powerplay_stats.sort_values(by='strike_rate_powerplay', ascending=False).drop_duplicates(subset=['batter'])\n",
        "\n",
        "# Get top 5 unique batters with highest strike rates in powerplay\n",
        "top_5_powerplay_batters = unique_batters_sorted.head(5)\n",
        "\n",
        "# Add rank column\n",
        "top_5_powerplay_batters['rank'] = top_5_powerplay_batters['strike_rate_powerplay'].rank(method='min', ascending=False).astype(int)\n",
        "\n",
        "# Save the top 5 batters with highest strike rates in powerplay to a DataFrame\n",
        "top_5_powerplay_batters_df = top_5_powerplay_batters[['batter', 'bat_team', 'total_powerplay_runs', 'strike_rate_powerplay', 'rank']]\n",
        "\n",
        "# Display the DataFrame\n",
        "print(\"\\nTop 5 Unique Batters with Highest Strike Rates in Powerplay (1-6 overs) with 50 or more balls faced in group stage:\")\n",
        "print(top_5_powerplay_batters_df)\n"
      ],
      "metadata": {
        "id": "_BpXmwzCrYAc",
        "colab": {
          "base_uri": "https://localhost:8080/"
        },
        "outputId": "a14136c8-8fd7-4c50-fd63-1a726704370d",
        "collapsed": true
      },
      "execution_count": null,
      "outputs": [
        {
          "output_type": "stream",
          "name": "stdout",
          "text": [
            "\n",
            "Top 5 Unique Batters with Highest Strike Rates in Powerplay (1-6 overs) with 50 or more balls faced in group stage:\n",
            "              batter     bat_team  total_powerplay_runs  \\\n",
            "174  Nicholas Pooran  West Indies                    98   \n",
            "269      Travis Head    Australia                   104   \n",
            "93    Ibrahim Zadran  Afghanistan                    98   \n",
            "56      Devon Conway  New Zealand                    66   \n",
            "178   Nikolaas Davin      Namibia                    58   \n",
            "\n",
            "     strike_rate_powerplay  rank  \n",
            "174             178.181818     1  \n",
            "269             160.000000     2  \n",
            "93              136.111111     3  \n",
            "56              113.793103     4  \n",
            "178             103.571429     5  \n"
          ]
        },
        {
          "output_type": "stream",
          "name": "stderr",
          "text": [
            "<ipython-input-39-cc3faccf8316>:34: SettingWithCopyWarning: \n",
            "A value is trying to be set on a copy of a slice from a DataFrame.\n",
            "Try using .loc[row_indexer,col_indexer] = value instead\n",
            "\n",
            "See the caveats in the documentation: https://pandas.pydata.org/pandas-docs/stable/user_guide/indexing.html#returning-a-view-versus-a-copy\n",
            "  top_5_powerplay_batters['rank'] = top_5_powerplay_batters['strike_rate_powerplay'].rank(method='min', ascending=False).astype(int)\n"
          ]
        }
      ]
    },
    {
      "cell_type": "code",
      "source": [
        "#HIGHEST SR MO\n",
        "# Filter data for group stage and middle overs (7-15)\n",
        "group_stage_middle_overs_data = data[(data['Stage'] == 'Group Stage') & (data['over_number'] >= 7) & (data['over_number'] <= 15)]\n",
        "\n",
        "# Remove duplicate over_number values for each batter within each match in middle overs\n",
        "unique_middle_overs_batters = group_stage_middle_overs_data[['match_id', 'batter', 'bat_team']].drop_duplicates()\n",
        "\n",
        "# Group by batter to calculate total runs scored by each batter in middle overs\n",
        "batter_total_middle_overs_runs = group_stage_middle_overs_data.groupby('batter')['total_runs'].sum().reset_index(name='total_middle_overs_runs')\n",
        "\n",
        "# Calculate balls faced by each batter in middle overs\n",
        "batter_balls_faced_middle_overs = group_stage_middle_overs_data.groupby('batter')['overs_actual'].count().reset_index(name='balls_faced_middle_overs')\n",
        "\n",
        "# Merge total runs and balls faced data\n",
        "batter_middle_overs_stats = pd.merge(batter_total_middle_overs_runs, batter_balls_faced_middle_overs, on='batter')\n",
        "\n",
        "# Calculate strike rate for each batter in middle overs\n",
        "batter_middle_overs_stats['strike_rate_middle_overs'] = (batter_middle_overs_stats['total_middle_overs_runs'] / batter_middle_overs_stats['balls_faced_middle_overs']) * 100\n",
        "\n",
        "# Merge with 'bat_team' to get team information\n",
        "batter_middle_overs_stats = pd.merge(batter_middle_overs_stats, unique_middle_overs_batters[['batter', 'bat_team']], on='batter')\n",
        "\n",
        "# Filter batters with 50 or more balls faced in middle overs\n",
        "batter_middle_overs_stats = batter_middle_overs_stats[batter_middle_overs_stats['balls_faced_middle_overs'] >= 50]\n",
        "\n",
        "# Sort by strike rate in descending order and drop duplicates to keep unique batters\n",
        "unique_batters_sorted = batter_middle_overs_stats.sort_values(by='strike_rate_middle_overs', ascending=False).drop_duplicates(subset=['batter'])\n",
        "\n",
        "# Get top 5 unique batters with highest strike rates in middle overs\n",
        "top_5_middle_overs_batters = unique_batters_sorted.head(5)\n",
        "\n",
        "# Add rank column\n",
        "top_5_middle_overs_batters['rank'] = top_5_middle_overs_batters['strike_rate_middle_overs'].rank(method='min', ascending=False).astype(int)\n",
        "\n",
        "# Save the top 5 batters with highest strike rates in middle overs to a DataFrame\n",
        "top_5_middle_overs_batters_df = top_5_middle_overs_batters[['batter', 'bat_team', 'total_middle_overs_runs', 'strike_rate_middle_overs', 'rank']]\n",
        "\n",
        "# Display the DataFrame\n",
        "print(\"\\nTop 5 Unique Batters with Highest Strike Rates in Middle Overs (7-15 overs) with 50 or more balls faced in group stage:\")\n",
        "print(top_5_middle_overs_batters_df)\n"
      ],
      "metadata": {
        "id": "dG138U7zt7xs",
        "colab": {
          "base_uri": "https://localhost:8080/"
        },
        "outputId": "6ed88a05-ebc0-4ff5-f5db-a787f7c9cdce",
        "collapsed": true
      },
      "execution_count": null,
      "outputs": [
        {
          "output_type": "stream",
          "name": "stdout",
          "text": [
            "\n",
            "Top 5 Unique Batters with Highest Strike Rates in Middle Overs (7-15 overs) with 50 or more balls faced in group stage:\n",
            "                 batter     bat_team  total_middle_overs_runs  \\\n",
            "44     Brandon McMullen     Scotland                      101   \n",
            "182      Marcus Stoinis    Australia                       92   \n",
            "238  Rahmanullah Gurbaz  Afghanistan                       82   \n",
            "123      Ibrahim Zadran  Afghanistan                       68   \n",
            "307       Towhid Hridoy   Bangladesh                       82   \n",
            "\n",
            "     strike_rate_middle_overs  rank  \n",
            "44                 202.000000     1  \n",
            "182                184.000000     2  \n",
            "238                143.859649     3  \n",
            "123                128.301887     4  \n",
            "307                128.125000     5  \n"
          ]
        },
        {
          "output_type": "stream",
          "name": "stderr",
          "text": [
            "<ipython-input-40-acc17f749939>:33: SettingWithCopyWarning: \n",
            "A value is trying to be set on a copy of a slice from a DataFrame.\n",
            "Try using .loc[row_indexer,col_indexer] = value instead\n",
            "\n",
            "See the caveats in the documentation: https://pandas.pydata.org/pandas-docs/stable/user_guide/indexing.html#returning-a-view-versus-a-copy\n",
            "  top_5_middle_overs_batters['rank'] = top_5_middle_overs_batters['strike_rate_middle_overs'].rank(method='min', ascending=False).astype(int)\n"
          ]
        }
      ]
    },
    {
      "cell_type": "code",
      "source": [
        "#HIGHEST SR MO\n",
        "\n",
        "# Filter data for group stage and death overs (16-20)\n",
        "group_stage_death_overs_data = data[(data['Stage'] == 'Group Stage') & (data['over_number'] >= 16) & (data['over_number'] <= 20)]\n",
        "\n",
        "# Remove duplicate over_number values for each batter within each match in death overs\n",
        "unique_death_overs_batters = group_stage_death_overs_data[['match_id', 'batter', 'bat_team']].drop_duplicates()\n",
        "\n",
        "# Group by batter to calculate total runs scored by each batter in death overs\n",
        "batter_total_death_overs_runs = group_stage_death_overs_data.groupby('batter')['total_runs'].sum().reset_index(name='total_death_overs_runs')\n",
        "\n",
        "# Calculate balls faced by each batter in death overs\n",
        "batter_balls_faced_death_overs = group_stage_death_overs_data.groupby('batter')['overs_actual'].count().reset_index(name='balls_faced_death_overs')\n",
        "\n",
        "# Merge total runs and balls faced data\n",
        "batter_death_overs_stats = pd.merge(batter_total_death_overs_runs, batter_balls_faced_death_overs, on='batter')\n",
        "\n",
        "# Calculate strike rate for each batter in death overs\n",
        "batter_death_overs_stats['strike_rate_death_overs'] = (batter_death_overs_stats['total_death_overs_runs'] / batter_death_overs_stats['balls_faced_death_overs']) * 100\n",
        "\n",
        "# Merge with 'bat_team' to get team information\n",
        "batter_death_overs_stats = pd.merge(batter_death_overs_stats, unique_death_overs_batters[['batter', 'bat_team']], on='batter')\n",
        "\n",
        "# Filter batters with 20 or more balls faced in death overs\n",
        "batter_death_overs_stats = batter_death_overs_stats[batter_death_overs_stats['balls_faced_death_overs'] >= 20]\n",
        "\n",
        "# Sort by strike rate in descending order and drop duplicates to keep unique batters\n",
        "unique_batters_sorted = batter_death_overs_stats.sort_values(by='strike_rate_death_overs', ascending=False).drop_duplicates(subset=['batter'])\n",
        "\n",
        "# Get top 5 unique batters with highest strike rates in death overs\n",
        "top_5_death_overs_batters = unique_batters_sorted.head(5)\n",
        "\n",
        "# Add rank column\n",
        "top_5_death_overs_batters['rank'] = top_5_death_overs_batters['strike_rate_death_overs'].rank(method='min', ascending=False).astype(int)\n",
        "\n",
        "# Save the top 5 batters with highest strike rates in death overs to a DataFrame\n",
        "top_5_death_overs_batters_df = top_5_death_overs_batters[['batter', 'bat_team', 'total_death_overs_runs', 'strike_rate_death_overs', 'rank']]\n",
        "\n",
        "# Display the DataFrame\n",
        "print(\"\\nTop 5 Unique Batters with Highest Strike Rates in Death Overs (16-20 overs) with 20 or more balls faced in group stage:\")\n",
        "print(top_5_death_overs_batters_df)\n"
      ],
      "metadata": {
        "id": "kZ9Gp78Yt70l",
        "colab": {
          "base_uri": "https://localhost:8080/"
        },
        "outputId": "a4524cf4-8f08-4f91-9642-b9981470e5fb",
        "collapsed": true
      },
      "execution_count": null,
      "outputs": [
        {
          "output_type": "stream",
          "name": "stdout",
          "text": [
            "\n",
            "Top 5 Unique Batters with Highest Strike Rates in Death Overs (16-20 overs) with 20 or more balls faced in group stage:\n",
            "                  batter                  bat_team  total_death_overs_runs  \\\n",
            "132       Marcus Stoinis                 Australia                      67   \n",
            "211  Sherfane Rutherford               West Indies                      57   \n",
            "1            Aaron Jones  United States of America                      56   \n",
            "225            Tim David                 Australia                      49   \n",
            "178    Richie Berrington                  Scotland                      46   \n",
            "\n",
            "     strike_rate_death_overs  rank  \n",
            "132               203.030303     1  \n",
            "211               196.551724     2  \n",
            "1                 193.103448     3  \n",
            "225               181.481481     4  \n",
            "178               176.923077     5  \n"
          ]
        },
        {
          "output_type": "stream",
          "name": "stderr",
          "text": [
            "<ipython-input-42-cf878d72ca0c>:34: SettingWithCopyWarning: \n",
            "A value is trying to be set on a copy of a slice from a DataFrame.\n",
            "Try using .loc[row_indexer,col_indexer] = value instead\n",
            "\n",
            "See the caveats in the documentation: https://pandas.pydata.org/pandas-docs/stable/user_guide/indexing.html#returning-a-view-versus-a-copy\n",
            "  top_5_death_overs_batters['rank'] = top_5_death_overs_batters['strike_rate_death_overs'].rank(method='min', ascending=False).astype(int)\n"
          ]
        }
      ]
    },
    {
      "cell_type": "code",
      "source": [
        "#pp wickets\n",
        "\n",
        "# Step 1: Filter rows for power play overs (over_number between 1 and 6)\n",
        "power_play_data = data[(data['over_number'] >= 1) & (data['over_number'] <= 6)]\n",
        "\n",
        "# Step 2: Filter rows where wickets were taken (out_player_id is not null) within power play overs and not run out\n",
        "power_play_wickets_data = power_play_data[(power_play_data['out_player_id'].notnull()) & (power_play_data['dismissal_text_shot'] != 'run out')]\n",
        "\n",
        "# Step 3: Group by bowler_player_id and count occurrences of out_player_id\n",
        "power_play_wickets_count = power_play_wickets_data.groupby('bowler_player_id')['out_player_id'].count()\n",
        "\n",
        "# Step 4: Sort the wickets_count in descending order and select top 3\n",
        "top_3_power_play_wicket_takers = power_play_wickets_count.nlargest(3)\n",
        "\n",
        "# Step 5: Retrieve names and bowl teams for the top 3 wicket takers\n",
        "top_3_power_play_info = (\n",
        "    data[data['bowler_player_id'].isin(top_3_power_play_wicket_takers.index)]\n",
        "    .drop_duplicates(subset=['bowler_player_id'])  # Ensure unique bowlers\n",
        "    [['bowler_player_id', 'bowler', 'bowl_team']]\n",
        "    .merge(top_3_power_play_wicket_takers.rename('total_wickets_PP'), left_on='bowler_player_id', right_index=True)\n",
        "    .sort_values(by='total_wickets_PP', ascending=False)\n",
        "    .reset_index(drop=True)\n",
        ")\n",
        "\n",
        "# Step 6: Add rank column\n",
        "top_3_power_play_info['rank'] = top_3_power_play_info['total_wickets_PP'].rank(method='min', ascending=False).astype(int)\n",
        "\n",
        "# Display the sorted top 3 wicket takers in power play along with their names, bowl teams, total wickets, and rank\n",
        "print(\"Top 3 Wicket Takers in Power Play:\")\n",
        "print(top_3_power_play_info[['bowler', 'bowl_team', 'total_wickets_PP', 'rank']])\n"
      ],
      "metadata": {
        "colab": {
          "base_uri": "https://localhost:8080/"
        },
        "id": "Qc23SdhgiARM",
        "outputId": "260ec5cf-0155-4314-a7fd-9b2907456188",
        "collapsed": true
      },
      "execution_count": null,
      "outputs": [
        {
          "output_type": "stream",
          "name": "stdout",
          "text": [
            "Top 3 Wicket Takers in Power Play:\n",
            "             bowler     bowl_team  total_wickets_PP  rank\n",
            "0  Fazalhaq Farooqi   Afghanistan                10     1\n",
            "1     Naveen-ul-Haq   Afghanistan                 8     2\n",
            "2     Kagiso Rabada  South Africa                 7     3\n"
          ]
        }
      ]
    },
    {
      "cell_type": "code",
      "source": [
        "#HIGHEST WK TAKER IN Middle overs\n",
        "\n",
        "# Step 1: Filter rows for middle overs (over_number between 7 and 15)\n",
        "middle_overs_data = data[(data['over_number'] >= 7) & (data['over_number'] <= 15)]\n",
        "\n",
        "# Step 2: Filter rows where wickets were taken (out_player_id is not null) within middle overs\n",
        "middle_overs_wickets_data = middle_overs_data[middle_overs_data['out_player_id'].notnull() & (middle_overs_data['dismissal_text_shot'] != 'run out')]\n",
        "\n",
        "# Step 3: Group by bowler_player_id and count occurrences of out_player_id\n",
        "middle_overs_wickets_count = middle_overs_wickets_data.groupby('bowler_player_id')['out_player_id'].count()\n",
        "\n",
        "# Step 4: Sort the wickets_count in descending order and select top 5\n",
        "top_5_middle_overs_wicket_takers = middle_overs_wickets_count.nlargest(5)\n",
        "\n",
        "# Step 5: Retrieve names and bowl teams for the top 8 wicket takers\n",
        "top_5_middle_overs_info = (\n",
        "    data[data['bowler_player_id'].isin(top_5_middle_overs_wicket_takers.index)]\n",
        "    .drop_duplicates(subset=['bowler_player_id'])  # Ensure unique bowlers\n",
        "    [['bowler_player_id', 'bowler', 'bowl_team']]\n",
        "    .merge(top_5_middle_overs_wicket_takers.rename('total_wickets_MO'), left_on='bowler_player_id', right_index=True)\n",
        "    .sort_values(by='total_wickets_MO', ascending=False)\n",
        "    .reset_index(drop=True)\n",
        ")\n",
        "\n",
        "# Step 6: Add rank column\n",
        "top_5_middle_overs_info['rank'] = top_5_middle_overs_info['total_wickets_MO'].rank(method='min', ascending=False).astype(int)\n",
        "\n",
        "# Display the sorted top 8 wicket takers in middle overs along with their names, bowl teams, total wickets, and rank\n",
        "print(\"Top 5 Wicket Takers in Middle Overs:\")\n",
        "print(top_5_middle_overs_info[['bowler', 'bowl_team', 'total_wickets_MO', 'rank']])\n"
      ],
      "metadata": {
        "colab": {
          "base_uri": "https://localhost:8080/"
        },
        "id": "UHzygu_NiAUU",
        "outputId": "32e38b5b-ab17-429b-c04c-a8b224be0c58"
      },
      "execution_count": null,
      "outputs": [
        {
          "output_type": "stream",
          "name": "stdout",
          "text": [
            "Top 5 Wicket Takers in Middle Overs:\n",
            "          bowler     bowl_team  total_wickets_MO  rank\n",
            "0    Rashid Khan   Afghanistan                11     1\n",
            "1  Anrich Nortje  South Africa                10     2\n",
            "2     Adam Zampa     Australia                10     2\n",
            "3    Adil Rashid       England                 9     4\n",
            "4  Kuldeep Yadav         India                 9     4\n"
          ]
        }
      ]
    },
    {
      "cell_type": "code",
      "source": [
        "#HIGHEST WK TAKER IN Death overs\n",
        "\n",
        "# Step 1: Filter rows for death overs (over_number greater than 15)\n",
        "death_overs_data = data[data['over_number'] > 15]\n",
        "\n",
        "# Step 2: Filter rows where wickets were taken (out_player_id is not null) within death overs\n",
        "death_overs_wickets_data = death_overs_data[death_overs_data['out_player_id'].notnull() & (death_overs_data['dismissal_text_shot'] != 'run out')]\n",
        "\n",
        "# Step 3: Group by bowler_player_id and count occurrences of out_player_id\n",
        "death_overs_wickets_count = death_overs_wickets_data.groupby('bowler_player_id')['out_player_id'].count()\n",
        "\n",
        "# Step 4: Sort the wickets_count in descending order and select top\n",
        "top_5_death_overs_wicket_takers = death_overs_wickets_count.nlargest(5)\n",
        "\n",
        "# Step 5: Retrieve names and bowl teams for the top 8 wicket takers\n",
        "top_5_death_overs_info = (\n",
        "    data[data['bowler_player_id'].isin(top_5_death_overs_wicket_takers.index)]\n",
        "    .drop_duplicates(subset=['bowler_player_id'])  # Ensure unique bowlers\n",
        "    [['bowler_player_id', 'bowler', 'bowl_team']]\n",
        "    .merge(top_5_death_overs_wicket_takers.rename('total_wickets_death'), left_on='bowler_player_id', right_index=True)\n",
        "    .sort_values(by='total_wickets_death', ascending=False)\n",
        "    .reset_index(drop=True)\n",
        ")\n",
        "\n",
        "# Step 6: Add rank column\n",
        "top_5_death_overs_info['rank'] = top_5_death_overs_info['total_wickets_death'].rank(method='min', ascending=False).astype(int)\n",
        "\n",
        "# Display the sorted top 8 wicket takers in death overs along with their names, bowl teams, total wickets, and rank\n",
        "print(\"Top 5 Wicket Takers in Death Overs:\")\n",
        "print(top_5_death_overs_info[['bowler', 'bowl_team', 'total_wickets_death', 'rank']])\n",
        "\n",
        "\n"
      ],
      "metadata": {
        "colab": {
          "base_uri": "https://localhost:8080/"
        },
        "id": "pjEtJUTNiAWs",
        "outputId": "bd109a89-2ee0-4cbd-ce95-710b84b2bd66",
        "collapsed": true
      },
      "execution_count": null,
      "outputs": [
        {
          "output_type": "stream",
          "name": "stdout",
          "text": [
            "Top 5 Wicket Takers in Death Overs:\n",
            "           bowler  bowl_team  total_wickets_death  rank\n",
            "0  Arshdeep Singh      India                    9     1\n",
            "1    Chris Jordan    England                    9     1\n",
            "2     Pat Cummins  Australia                    8     3\n",
            "3  Jasprit Bumrah      India                    7     4\n",
            "4  Marcus Stoinis  Australia                    6     5\n"
          ]
        }
      ]
    },
    {
      "cell_type": "code",
      "source": [
        "#Top 5 Bowlers with Lowest Economy Rates in Powerplay (8 or More Overs Bowled):\n",
        "\n",
        "# Filter data for powerplay overs (1-6)\n",
        "powerplay_data = data[(data['over_number'] >= 1) & (data['over_number'] <= 6)]\n",
        "\n",
        "# Remove duplicate over_number values for each bowler within each match in powerplay\n",
        "unique_powerplay_overs = powerplay_data[['match_id', 'bowler', 'bowl_team', 'over_number']].drop_duplicates()\n",
        "\n",
        "# Group by bowler to count the unique overs bowled by each bowler in powerplay\n",
        "bowler_total_powerplay_overs = unique_powerplay_overs.groupby('bowler')['over_number'].count().reset_index(name='total_powerplay_overs')\n",
        "\n",
        "# Group by bowler to sum the total runs conceded by each bowler in powerplay\n",
        "bowler_total_powerplay_runs_conceded = powerplay_data.groupby('bowler')['total_runs'].sum().reset_index(name='total_powerplay_runs_conceded')\n",
        "\n",
        "# Calculate the number of wickets taken by each bowler in powerplay\n",
        "powerplay_wickets_data = powerplay_data[powerplay_data['out_player_id'].notnull() & (power_play_data['dismissal_text_shot'] != 'run out')]\n",
        "powerplay_wickets_count = powerplay_wickets_data.groupby('bowler')['out_player_id'].count().reset_index(name='powerplay_wickets_count')\n",
        "\n",
        "# Calculate the economy rate for each bowler in powerplay\n",
        "bowler_powerplay_economy_rate = pd.merge(bowler_total_powerplay_overs, bowler_total_powerplay_runs_conceded, on='bowler')\n",
        "bowler_powerplay_economy_rate['powerplay_economy_rate'] = bowler_powerplay_economy_rate['total_powerplay_runs_conceded'] / bowler_powerplay_economy_rate['total_powerplay_overs']\n",
        "\n",
        "# Merge powerplay wickets count into bowler_powerplay_economy_rate\n",
        "bowler_powerplay_economy_rate = pd.merge(bowler_powerplay_economy_rate, powerplay_wickets_count, on='bowler')\n",
        "\n",
        "# Merge bowl_team into bowler_powerplay_economy_rate\n",
        "bowler_powerplay_economy_rate = pd.merge(bowler_powerplay_economy_rate, data[['bowler', 'bowl_team']].drop_duplicates(), on='bowler', how='left')\n",
        "\n",
        "# Filter bowlers who have bowled 10 or more overs in powerplay and taken at least 1 wicket\n",
        "qualified_powerplay_bowlers = bowler_powerplay_economy_rate[(bowler_powerplay_economy_rate['total_powerplay_overs'] >= 10) & (bowler_powerplay_economy_rate['powerplay_wickets_count'] >= 1)]\n",
        "\n",
        "# Get top 5 bowlers with lowest economy rates in powerplay\n",
        "top_5_powerplay_bowlers_eco = qualified_powerplay_bowlers.nsmallest(5, 'powerplay_economy_rate')\n",
        "\n",
        "# Display the top 5 bowlers with lowest economy rates in powerplay\n",
        "print(\"\\nTop 5 Bowlers with Lowest Economy Rates in Powerplay (10 or More Overs Bowled):\")\n",
        "print(top_5_powerplay_bowlers_eco[['bowler', 'bowl_team', 'powerplay_economy_rate', 'powerplay_wickets_count']])\n"
      ],
      "metadata": {
        "colab": {
          "base_uri": "https://localhost:8080/"
        },
        "id": "uxbnNnkMNKmv",
        "outputId": "4dc40c2e-a464-4ad7-ec5f-33fdc4ea4f78",
        "collapsed": true
      },
      "execution_count": null,
      "outputs": [
        {
          "output_type": "stream",
          "name": "stdout",
          "text": [
            "\n",
            "Top 5 Bowlers with Lowest Economy Rates in Powerplay (10 or More Overs Bowled):\n",
            "                bowler     bowl_team  powerplay_economy_rate  \\\n",
            "29      Jasprit Bumrah         India                4.285714   \n",
            "35       Kagiso Rabada  South Africa                5.000000   \n",
            "32      Josh Hazlewood     Australia                5.071429   \n",
            "54       Naveen-ul-Haq   Afghanistan                5.200000   \n",
            "74  Tanzim Hasan Sakib    Bangladesh                5.214286   \n",
            "\n",
            "    powerplay_wickets_count  \n",
            "29                        5  \n",
            "35                        7  \n",
            "32                        3  \n",
            "54                        8  \n",
            "74                        7  \n"
          ]
        }
      ]
    },
    {
      "cell_type": "code",
      "source": [
        "#TOP 3 BEST ECO IN MIDDLE (18 or more overs bowled)\n",
        "\n",
        "\n",
        "# Filter data for middle overs (7th to 15th overs)\n",
        "middle_overs_data = data[(data['over_number'] >= 7) & (data['over_number'] <= 15)]\n",
        "\n",
        "# Remove duplicate over_number values for each bowler within each match in middle overs\n",
        "unique_middle_overs = middle_overs_data[['match_id', 'bowler', 'bowl_team', 'over_number']].drop_duplicates()\n",
        "\n",
        "# Group by bowler to count the unique overs bowled by each bowler in middle overs\n",
        "bowler_total_middle_overs = unique_middle_overs.groupby('bowler')['over_number'].count().reset_index(name='total_middle_overs')\n",
        "\n",
        "# Group by bowler to sum the total runs conceded by each bowler in middle overs\n",
        "bowler_total_middle_runs_conceded = middle_overs_data.groupby('bowler')['total_runs'].sum().reset_index(name='total_middle_runs_conceded')\n",
        "\n",
        "# Calculate the number of wickets taken by each bowler in middle overs\n",
        "middle_wickets_data = middle_overs_data[middle_overs_data['out_player_id'].notnull() & (middle_overs_data['dismissal_text_shot'] != 'run out')]\n",
        "middle_wickets_count = middle_wickets_data.groupby('bowler')['out_player_id'].count().reset_index(name='middle_wickets_count')\n",
        "\n",
        "# Calculate the economy rate for each bowler in middle overs\n",
        "bowler_middle_economy_rate = pd.merge(bowler_total_middle_overs, bowler_total_middle_runs_conceded, on='bowler')\n",
        "bowler_middle_economy_rate['middle_economy_rate'] = bowler_middle_economy_rate['total_middle_runs_conceded'] / bowler_middle_economy_rate['total_middle_overs']\n",
        "\n",
        "# Merge middle wickets count into bowler_middle_economy_rate\n",
        "bowler_middle_economy_rate = pd.merge(bowler_middle_economy_rate, middle_wickets_count, on='bowler')\n",
        "\n",
        "# Merge bowl_team into bowler_middle_economy_rate\n",
        "bowler_middle_economy_rate = pd.merge(bowler_middle_economy_rate, data[['bowler', 'bowl_team']].drop_duplicates(), on='bowler', how='left')\n",
        "\n",
        "# Filter bowlers who have bowled 8 or more overs in middle overs and taken at least 1 wicket\n",
        "qualified_middle_bowlers = bowler_middle_economy_rate[(bowler_middle_economy_rate['total_middle_overs'] >= 21) & (bowler_middle_economy_rate['middle_wickets_count'] >= 1)]\n",
        "\n",
        "# Get top 5 bowlers with lowest economy rates in middle overs\n",
        "top_5_middle_bowlers_eco = qualified_middle_bowlers.nsmallest(5, 'middle_economy_rate')\n",
        "\n",
        "# Display the top 5 bowlers with lowest economy rates in middle overs\n",
        "print(\"\\nTop 5 Bowlers with Lowest Economy Rates in Middle Overs (7th to 15th overs):\")\n",
        "print(top_5_middle_bowlers_eco[['bowler', 'bowl_team', 'middle_economy_rate', 'middle_wickets_count']])\n"
      ],
      "metadata": {
        "colab": {
          "base_uri": "https://localhost:8080/"
        },
        "id": "JnT4rzryNKqo",
        "outputId": "5bb7fc33-7948-4d91-faee-9608326282f2"
      },
      "execution_count": null,
      "outputs": [
        {
          "output_type": "stream",
          "name": "stdout",
          "text": [
            "\n",
            "Top 5 Bowlers with Lowest Economy Rates in Middle Overs (7th to 15th overs):\n",
            "            bowler     bowl_team  middle_economy_rate  middle_wickets_count\n",
            "7    Anrich Nortje  South Africa             5.291667                    10\n",
            "77     Rashid Khan   Afghanistan             5.913043                    11\n",
            "47  Keshav Maharaj  South Africa             5.954545                     7\n",
            "1      Adil Rashid       England             6.000000                     9\n",
            "0       Adam Zampa     Australia             6.347826                    10\n"
          ]
        }
      ]
    },
    {
      "cell_type": "code",
      "source": [
        "# Filter data for death overs (16th over and beyond)\n",
        "death_overs_data = data[data['over_number'] >= 16]\n",
        "\n",
        "# Remove duplicate over_number values for each bowler within each match in death overs\n",
        "unique_death_overs = death_overs_data[['match_id', 'bowler', 'bowl_team', 'over_number']].drop_duplicates()\n",
        "\n",
        "# Group by bowler to count the unique overs bowled by each bowler in death overs\n",
        "bowler_total_death_overs = unique_death_overs.groupby('bowler')['over_number'].count().reset_index(name='total_death_overs')\n",
        "\n",
        "# Group by bowler to sum the total runs conceded by each bowler in death overs\n",
        "bowler_total_death_runs_conceded = death_overs_data.groupby('bowler')['total_runs'].sum().reset_index(name='total_death_runs_conceded')\n",
        "\n",
        "# Calculate the number of wickets taken by each bowler in death overs\n",
        "death_wickets_data = death_overs_data[death_overs_data['out_player_id'].notnull() & (death_overs_data['dismissal_text_shot'] != 'run out')]\n",
        "death_wickets_count = death_wickets_data.groupby('bowler')['out_player_id'].count().reset_index(name='death_wickets_count')\n",
        "\n",
        "# Calculate the economy rate for each bowler in death overs\n",
        "bowler_death_economy_rate = pd.merge(bowler_total_death_overs, bowler_total_death_runs_conceded, on='bowler')\n",
        "bowler_death_economy_rate['death_economy_rate'] = bowler_death_economy_rate['total_death_runs_conceded'] / bowler_death_economy_rate['total_death_overs']\n",
        "\n",
        "# Merge death wickets count into bowler_death_economy_rate\n",
        "bowler_death_economy_rate = pd.merge(bowler_death_economy_rate, death_wickets_count, on='bowler')\n",
        "\n",
        "# Merge bowl_team into bowler_death_economy_rate\n",
        "bowler_death_economy_rate = pd.merge(bowler_death_economy_rate, data[['bowler', 'bowl_team']].drop_duplicates(), on='bowler', how='left')\n",
        "\n",
        "# Filter bowlers who have bowled 18 or more overs in death overs and taken at least 1 wicket\n",
        "qualified_death_bowlers = bowler_death_economy_rate[(bowler_death_economy_rate['total_death_overs'] >= 8) & (bowler_death_economy_rate['death_wickets_count'] >= 1)]\n",
        "\n",
        "# Get top 3 bowlers with lowest economy rates in death overs\n",
        "top_3_death_bowlers_eco = qualified_death_bowlers.nsmallest(3, 'death_economy_rate')\n",
        "\n",
        "# Add rank column\n",
        "top_3_death_bowlers_eco['rank'] = top_3_death_bowlers_eco['death_economy_rate'].rank(method='min', ascending=True).astype(int)\n",
        "\n",
        "# Display the top 3 bowlers with lowest economy rates in death overs\n",
        "print(\"\\nTop 3 Bowlers with Lowest Economy Rates in Death Overs (16th over and beyond):\")\n",
        "print(top_3_death_bowlers_eco[['bowler', 'bowl_team', 'death_economy_rate', 'death_wickets_count', 'rank']])\n"
      ],
      "metadata": {
        "colab": {
          "base_uri": "https://localhost:8080/"
        },
        "id": "4_-r1a8ZNKtf",
        "outputId": "8129ab05-8397-49d3-a668-90ac9e452b11"
      },
      "execution_count": null,
      "outputs": [
        {
          "output_type": "stream",
          "name": "stdout",
          "text": [
            "\n",
            "Top 3 Bowlers with Lowest Economy Rates in Death Overs (16th over and beyond):\n",
            "               bowler     bowl_team  death_economy_rate  death_wickets_count  \\\n",
            "48  Mustafizur Rahman    Bangladesh            4.222222                    5   \n",
            "29     Jasprit Bumrah         India            4.833333                    7   \n",
            "33      Kagiso Rabada  South Africa            6.777778                    5   \n",
            "\n",
            "    rank  \n",
            "48     1  \n",
            "29     2  \n",
            "33     3  \n"
          ]
        }
      ]
    },
    {
      "cell_type": "code",
      "source": [
        "# Concatenate all DataFrames into one DataFrame\n",
        "combined_df_concat = pd.concat([top_5_run_scorers, top_5_fours, top_5_six, top_5_wkts_info, top_5_bowlers_eco, wides_stats_by_team, dots_by_team, most_dot_balls_batters, boundary_rate_df, boundary_rate_batter_df, top_5_bowlers_boundary_frequency, result_df, result_df_mo, result_df_do, top_5_powerplay_batters_df, top_5_middle_overs_batters_df, top_5_death_overs_batters_df , top_3_power_play_info, top_5_middle_overs_info, top_5_death_overs_info, top_5_powerplay_bowlers_eco, top_5_middle_bowlers_eco, top_3_death_bowlers_eco], ignore_index=True)\n",
        "\n",
        "# Save the concatenated DataFrame to a CSV file\n",
        "combined_df_concat.to_excel('AFG_results_concat.xlsx', index=False)\n",
        "\n",
        "print(\"AFG_results_concat.xlsx\")\n",
        "\n"
      ],
      "metadata": {
        "id": "6bekws5TNKwO"
      },
      "execution_count": null,
      "outputs": []
    },
    {
      "cell_type": "code",
      "source": [],
      "metadata": {
        "id": "obNIkwRpNKy-"
      },
      "execution_count": null,
      "outputs": []
    },
    {
      "cell_type": "code",
      "source": [],
      "metadata": {
        "id": "DyS0KoPxKkR9"
      },
      "execution_count": null,
      "outputs": []
    },
    {
      "cell_type": "code",
      "source": [],
      "metadata": {
        "id": "pqtwKVIXKkZ6"
      },
      "execution_count": null,
      "outputs": []
    },
    {
      "cell_type": "code",
      "source": [],
      "metadata": {
        "id": "gFQoJOkDKkdG"
      },
      "execution_count": null,
      "outputs": []
    },
    {
      "cell_type": "code",
      "source": [],
      "metadata": {
        "id": "ossTYHYGKkgp"
      },
      "execution_count": null,
      "outputs": []
    },
    {
      "cell_type": "code",
      "source": [],
      "metadata": {
        "id": "Lg2s95tgQvY2"
      },
      "execution_count": null,
      "outputs": []
    },
    {
      "cell_type": "code",
      "source": [],
      "metadata": {
        "id": "K6ogS0QnUweM"
      },
      "execution_count": null,
      "outputs": []
    },
    {
      "cell_type": "code",
      "source": [],
      "metadata": {
        "id": "O3HL1YIbQ91_"
      },
      "execution_count": null,
      "outputs": []
    },
    {
      "cell_type": "code",
      "source": [],
      "metadata": {
        "id": "AKJ0zeqgYrYR"
      },
      "execution_count": null,
      "outputs": []
    },
    {
      "cell_type": "code",
      "source": [],
      "metadata": {
        "id": "c3UaVHiEc7q3"
      },
      "execution_count": null,
      "outputs": []
    }
  ]
}